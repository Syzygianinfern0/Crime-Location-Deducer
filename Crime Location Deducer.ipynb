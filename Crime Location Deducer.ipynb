{
 "cells": [
  {
   "cell_type": "markdown",
   "metadata": {
    "heading_collapsed": true
   },
   "source": [
    "# Spider Inductions '19 - Tronix"
   ]
  },
  {
   "cell_type": "markdown",
   "metadata": {
    "collapsed": true,
    "hidden": true,
    "pycharm": {
     "name": "#%% md\n"
    }
   },
   "source": [
    "### By S P Sharan\n",
    "### Machine Learning Task 1 - Basic\n",
    "\n",
    "#### Problem Statement!\n",
    "The Chicago Police Department's CLEAR (Citizen Law Enforcement Analysis and Reporting) system has lost the locations of\n",
    "some of the crimes in Chicago. They need an approximate location of the crime from the remaining data. The dataset is \n",
    "available with the police department and it reflects reported incidents of crime (with the exception of murders where \n",
    "data exists for each victim) that occurred in the City of Chicago from 2012 to 2017.\n",
    "\n",
    "For the lost locations the related data to those locations is still with Police Department. You are given the data \n",
    "related to lost locations of the city. Your task is to predict the exact location of the Crime by the help Neural \n",
    "Networks algorithm."
   ]
  },
  {
   "cell_type": "markdown",
   "metadata": {
    "heading_collapsed": true
   },
   "source": [
    "# Let's get on with the Task"
   ]
  },
  {
   "cell_type": "markdown",
   "metadata": {
    "heading_collapsed": true,
    "hidden": true
   },
   "source": [
    "## Imports\n",
    "The basic set of data analysis tool..."
   ]
  },
  {
   "cell_type": "code",
   "execution_count": 2,
   "metadata": {
    "hidden": true,
    "pycharm": {
     "is_executing": false,
     "name": "#%%\n"
    }
   },
   "outputs": [],
   "source": [
    "import numpy as np\n",
    "import pandas as pd\n",
    "import matplotlib.pyplot as plt\n",
    "import seaborn as sns\n",
    "import folium\n",
    "%matplotlib inline"
   ]
  },
  {
   "cell_type": "markdown",
   "metadata": {
    "hidden": true,
    "pycharm": {
     "name": "#%% md\n"
    }
   },
   "source": [
    "The data is given in the form of .csv files."
   ]
  },
  {
   "cell_type": "code",
   "execution_count": 3,
   "metadata": {
    "hidden": true,
    "pycharm": {
     "is_executing": false,
     "name": "#%%\n"
    }
   },
   "outputs": [
    {
     "data": {
      "text/html": [
       "<div>\n",
       "<style scoped>\n",
       "    .dataframe tbody tr th:only-of-type {\n",
       "        vertical-align: middle;\n",
       "    }\n",
       "\n",
       "    .dataframe tbody tr th {\n",
       "        vertical-align: top;\n",
       "    }\n",
       "\n",
       "    .dataframe thead th {\n",
       "        text-align: right;\n",
       "    }\n",
       "</style>\n",
       "<table border=\"1\" class=\"dataframe\">\n",
       "  <thead>\n",
       "    <tr style=\"text-align: right;\">\n",
       "      <th></th>\n",
       "      <th>ID</th>\n",
       "      <th>Case Number</th>\n",
       "      <th>Date</th>\n",
       "      <th>Block</th>\n",
       "      <th>IUCR</th>\n",
       "      <th>Primary Type</th>\n",
       "      <th>Description</th>\n",
       "      <th>Location Description</th>\n",
       "      <th>Arrest</th>\n",
       "      <th>Domestic</th>\n",
       "      <th>...</th>\n",
       "      <th>Ward</th>\n",
       "      <th>Community Area</th>\n",
       "      <th>FBI Code</th>\n",
       "      <th>X Coordinate</th>\n",
       "      <th>Y Coordinate</th>\n",
       "      <th>Year</th>\n",
       "      <th>Updated On</th>\n",
       "      <th>Latitude</th>\n",
       "      <th>Longitude</th>\n",
       "      <th>Location</th>\n",
       "    </tr>\n",
       "  </thead>\n",
       "  <tbody>\n",
       "    <tr>\n",
       "      <th>0</th>\n",
       "      <td>9997156</td>\n",
       "      <td>HY187464</td>\n",
       "      <td>03/16/2015 10:55:00 PM</td>\n",
       "      <td>037XX N BERNARD ST</td>\n",
       "      <td>0520</td>\n",
       "      <td>ASSAULT</td>\n",
       "      <td>AGGRAVATED:KNIFE/CUTTING INSTR</td>\n",
       "      <td>APARTMENT</td>\n",
       "      <td>False</td>\n",
       "      <td>True</td>\n",
       "      <td>...</td>\n",
       "      <td>35.0</td>\n",
       "      <td>16.0</td>\n",
       "      <td>04A</td>\n",
       "      <td>1152724.0</td>\n",
       "      <td>1924681.0</td>\n",
       "      <td>2015</td>\n",
       "      <td>08/17/2015 03:03:40 PM</td>\n",
       "      <td>41.949183</td>\n",
       "      <td>-87.714011</td>\n",
       "      <td>(41.949183466, -87.714010731)</td>\n",
       "    </tr>\n",
       "    <tr>\n",
       "      <th>1</th>\n",
       "      <td>8503988</td>\n",
       "      <td>HV180396</td>\n",
       "      <td>03/02/2012 01:00:00 PM</td>\n",
       "      <td>096XX S MICHIGAN AVE</td>\n",
       "      <td>1811</td>\n",
       "      <td>NARCOTICS</td>\n",
       "      <td>POSS: CANNABIS 30GMS OR LESS</td>\n",
       "      <td>SCHOOL, PUBLIC, BUILDING</td>\n",
       "      <td>True</td>\n",
       "      <td>False</td>\n",
       "      <td>...</td>\n",
       "      <td>6.0</td>\n",
       "      <td>49.0</td>\n",
       "      <td>18</td>\n",
       "      <td>1178850.0</td>\n",
       "      <td>1841009.0</td>\n",
       "      <td>2012</td>\n",
       "      <td>02/04/2016 06:33:39 AM</td>\n",
       "      <td>41.719023</td>\n",
       "      <td>-87.620529</td>\n",
       "      <td>(41.71902307, -87.620528559)</td>\n",
       "    </tr>\n",
       "    <tr>\n",
       "      <th>2</th>\n",
       "      <td>10756290</td>\n",
       "      <td>HZ518998</td>\n",
       "      <td>11/17/2016 01:35:00 PM</td>\n",
       "      <td>030XX E 79TH ST</td>\n",
       "      <td>1365</td>\n",
       "      <td>CRIMINAL TRESPASS</td>\n",
       "      <td>TO RESIDENCE</td>\n",
       "      <td>RESIDENCE</td>\n",
       "      <td>True</td>\n",
       "      <td>False</td>\n",
       "      <td>...</td>\n",
       "      <td>7.0</td>\n",
       "      <td>46.0</td>\n",
       "      <td>26</td>\n",
       "      <td>1197746.0</td>\n",
       "      <td>1853168.0</td>\n",
       "      <td>2016</td>\n",
       "      <td>11/24/2016 03:48:31 PM</td>\n",
       "      <td>41.751938</td>\n",
       "      <td>-87.550915</td>\n",
       "      <td>(41.75193817, -87.550915052)</td>\n",
       "    </tr>\n",
       "    <tr>\n",
       "      <th>3</th>\n",
       "      <td>10187054</td>\n",
       "      <td>HY374963</td>\n",
       "      <td>08/09/2015 03:25:00 AM</td>\n",
       "      <td>040XX N PULASKI RD</td>\n",
       "      <td>0486</td>\n",
       "      <td>BATTERY</td>\n",
       "      <td>DOMESTIC BATTERY SIMPLE</td>\n",
       "      <td>GAS STATION</td>\n",
       "      <td>False</td>\n",
       "      <td>True</td>\n",
       "      <td>...</td>\n",
       "      <td>39.0</td>\n",
       "      <td>16.0</td>\n",
       "      <td>08B</td>\n",
       "      <td>1149007.0</td>\n",
       "      <td>1926448.0</td>\n",
       "      <td>2015</td>\n",
       "      <td>08/17/2015 03:03:40 PM</td>\n",
       "      <td>41.954105</td>\n",
       "      <td>-87.727628</td>\n",
       "      <td>(41.954105142, -87.727628041)</td>\n",
       "    </tr>\n",
       "    <tr>\n",
       "      <th>4</th>\n",
       "      <td>9607779</td>\n",
       "      <td>HX258115</td>\n",
       "      <td>05/12/2014 01:10:00 AM</td>\n",
       "      <td>018XX W LAWRENCE AVE</td>\n",
       "      <td>0460</td>\n",
       "      <td>BATTERY</td>\n",
       "      <td>SIMPLE</td>\n",
       "      <td>STREET</td>\n",
       "      <td>False</td>\n",
       "      <td>False</td>\n",
       "      <td>...</td>\n",
       "      <td>47.0</td>\n",
       "      <td>4.0</td>\n",
       "      <td>08B</td>\n",
       "      <td>1163385.0</td>\n",
       "      <td>1931915.0</td>\n",
       "      <td>2014</td>\n",
       "      <td>02/04/2016 06:33:39 AM</td>\n",
       "      <td>41.968816</td>\n",
       "      <td>-87.674618</td>\n",
       "      <td>(41.968815819, -87.674618145)</td>\n",
       "    </tr>\n",
       "    <tr>\n",
       "      <th>5</th>\n",
       "      <td>9088992</td>\n",
       "      <td>HW233922</td>\n",
       "      <td>04/15/2013 07:45:00 AM</td>\n",
       "      <td>079XX S LOOMIS BLVD</td>\n",
       "      <td>0810</td>\n",
       "      <td>THEFT</td>\n",
       "      <td>OVER $500</td>\n",
       "      <td>VACANT LOT/LAND</td>\n",
       "      <td>False</td>\n",
       "      <td>False</td>\n",
       "      <td>...</td>\n",
       "      <td>21.0</td>\n",
       "      <td>71.0</td>\n",
       "      <td>06</td>\n",
       "      <td>1168378.0</td>\n",
       "      <td>1852049.0</td>\n",
       "      <td>2013</td>\n",
       "      <td>02/04/2016 06:33:39 AM</td>\n",
       "      <td>41.749550</td>\n",
       "      <td>-87.658567</td>\n",
       "      <td>(41.749549955, -87.658567035)</td>\n",
       "    </tr>\n",
       "    <tr>\n",
       "      <th>6</th>\n",
       "      <td>8479895</td>\n",
       "      <td>HV156457</td>\n",
       "      <td>02/12/2012 10:40:00 AM</td>\n",
       "      <td>061XX W GIDDINGS ST</td>\n",
       "      <td>2820</td>\n",
       "      <td>OTHER OFFENSE</td>\n",
       "      <td>TELEPHONE THREAT</td>\n",
       "      <td>RESIDENCE</td>\n",
       "      <td>False</td>\n",
       "      <td>False</td>\n",
       "      <td>...</td>\n",
       "      <td>38.0</td>\n",
       "      <td>15.0</td>\n",
       "      <td>26</td>\n",
       "      <td>1134577.0</td>\n",
       "      <td>1930912.0</td>\n",
       "      <td>2012</td>\n",
       "      <td>02/04/2016 06:33:39 AM</td>\n",
       "      <td>41.966622</td>\n",
       "      <td>-87.780569</td>\n",
       "      <td>(41.966622408, -87.780569492)</td>\n",
       "    </tr>\n",
       "    <tr>\n",
       "      <th>7</th>\n",
       "      <td>8703745</td>\n",
       "      <td>HV379698</td>\n",
       "      <td>07/12/2012 06:12:00 PM</td>\n",
       "      <td>051XX S HYDE PARK BLVD</td>\n",
       "      <td>0320</td>\n",
       "      <td>ROBBERY</td>\n",
       "      <td>STRONGARM - NO WEAPON</td>\n",
       "      <td>PARK PROPERTY</td>\n",
       "      <td>False</td>\n",
       "      <td>False</td>\n",
       "      <td>...</td>\n",
       "      <td>4.0</td>\n",
       "      <td>41.0</td>\n",
       "      <td>03</td>\n",
       "      <td>1188290.0</td>\n",
       "      <td>1871467.0</td>\n",
       "      <td>2012</td>\n",
       "      <td>02/04/2016 06:33:39 AM</td>\n",
       "      <td>41.802383</td>\n",
       "      <td>-87.584983</td>\n",
       "      <td>(41.802382851, -87.584982858)</td>\n",
       "    </tr>\n",
       "    <tr>\n",
       "      <th>8</th>\n",
       "      <td>8530062</td>\n",
       "      <td>HV207336</td>\n",
       "      <td>03/21/2012 02:35:00 AM</td>\n",
       "      <td>0000X W ILLINOIS ST</td>\n",
       "      <td>2027</td>\n",
       "      <td>NARCOTICS</td>\n",
       "      <td>POSS: CRACK</td>\n",
       "      <td>ALLEY</td>\n",
       "      <td>True</td>\n",
       "      <td>False</td>\n",
       "      <td>...</td>\n",
       "      <td>42.0</td>\n",
       "      <td>8.0</td>\n",
       "      <td>18</td>\n",
       "      <td>1176064.0</td>\n",
       "      <td>1903603.0</td>\n",
       "      <td>2012</td>\n",
       "      <td>02/04/2016 06:33:39 AM</td>\n",
       "      <td>41.890850</td>\n",
       "      <td>-87.628854</td>\n",
       "      <td>(41.890849769, -87.628853572)</td>\n",
       "    </tr>\n",
       "    <tr>\n",
       "      <th>9</th>\n",
       "      <td>10438860</td>\n",
       "      <td>HZ177428</td>\n",
       "      <td>03/07/2016 05:38:00 AM</td>\n",
       "      <td>0000X E LAKE ST</td>\n",
       "      <td>0320</td>\n",
       "      <td>ROBBERY</td>\n",
       "      <td>STRONGARM - NO WEAPON</td>\n",
       "      <td>SMALL RETAIL STORE</td>\n",
       "      <td>True</td>\n",
       "      <td>False</td>\n",
       "      <td>...</td>\n",
       "      <td>42.0</td>\n",
       "      <td>32.0</td>\n",
       "      <td>03</td>\n",
       "      <td>1176905.0</td>\n",
       "      <td>1901744.0</td>\n",
       "      <td>2016</td>\n",
       "      <td>03/17/2016 03:50:16 PM</td>\n",
       "      <td>41.885730</td>\n",
       "      <td>-87.625821</td>\n",
       "      <td>(41.885729587, -87.625821329)</td>\n",
       "    </tr>\n",
       "    <tr>\n",
       "      <th>10</th>\n",
       "      <td>8689720</td>\n",
       "      <td>HV365131</td>\n",
       "      <td>06/07/2012 10:00:00 AM</td>\n",
       "      <td>008XX W CORNELIA AVE</td>\n",
       "      <td>1365</td>\n",
       "      <td>CRIMINAL TRESPASS</td>\n",
       "      <td>TO RESIDENCE</td>\n",
       "      <td>APARTMENT</td>\n",
       "      <td>False</td>\n",
       "      <td>False</td>\n",
       "      <td>...</td>\n",
       "      <td>44.0</td>\n",
       "      <td>6.0</td>\n",
       "      <td>26</td>\n",
       "      <td>1169798.0</td>\n",
       "      <td>1923448.0</td>\n",
       "      <td>2012</td>\n",
       "      <td>02/04/2016 06:33:39 AM</td>\n",
       "      <td>41.945444</td>\n",
       "      <td>-87.651286</td>\n",
       "      <td>(41.945444363, -87.651285637)</td>\n",
       "    </tr>\n",
       "    <tr>\n",
       "      <th>11</th>\n",
       "      <td>10434754</td>\n",
       "      <td>HZ163938</td>\n",
       "      <td>02/24/2016 07:28:00 PM</td>\n",
       "      <td>003XX W 103RD ST</td>\n",
       "      <td>0860</td>\n",
       "      <td>THEFT</td>\n",
       "      <td>RETAIL THEFT</td>\n",
       "      <td>GROCERY FOOD STORE</td>\n",
       "      <td>False</td>\n",
       "      <td>False</td>\n",
       "      <td>...</td>\n",
       "      <td>9.0</td>\n",
       "      <td>49.0</td>\n",
       "      <td>06</td>\n",
       "      <td>1175895.0</td>\n",
       "      <td>1836626.0</td>\n",
       "      <td>2016</td>\n",
       "      <td>03/07/2016 03:57:43 PM</td>\n",
       "      <td>41.707062</td>\n",
       "      <td>-87.631483</td>\n",
       "      <td>(41.707062135, -87.631482564)</td>\n",
       "    </tr>\n",
       "    <tr>\n",
       "      <th>12</th>\n",
       "      <td>10721987</td>\n",
       "      <td>HZ480744</td>\n",
       "      <td>10/10/2016 12:30:00 AM</td>\n",
       "      <td>080XX S LANGLEY AVE</td>\n",
       "      <td>1152</td>\n",
       "      <td>DECEPTIVE PRACTICE</td>\n",
       "      <td>ILLEGAL USE CASH CARD</td>\n",
       "      <td>RESIDENCE</td>\n",
       "      <td>False</td>\n",
       "      <td>True</td>\n",
       "      <td>...</td>\n",
       "      <td>6.0</td>\n",
       "      <td>44.0</td>\n",
       "      <td>11</td>\n",
       "      <td>1182291.0</td>\n",
       "      <td>1851831.0</td>\n",
       "      <td>2016</td>\n",
       "      <td>10/24/2016 03:58:06 PM</td>\n",
       "      <td>41.748641</td>\n",
       "      <td>-87.607591</td>\n",
       "      <td>(41.748641017, -87.607591178)</td>\n",
       "    </tr>\n",
       "    <tr>\n",
       "      <th>13</th>\n",
       "      <td>9260949</td>\n",
       "      <td>HW387245</td>\n",
       "      <td>07/31/2013 02:44:28 PM</td>\n",
       "      <td>033XX W MAYPOLE AVE</td>\n",
       "      <td>1812</td>\n",
       "      <td>NARCOTICS</td>\n",
       "      <td>POSS: CANNABIS MORE THAN 30GMS</td>\n",
       "      <td>APARTMENT</td>\n",
       "      <td>False</td>\n",
       "      <td>False</td>\n",
       "      <td>...</td>\n",
       "      <td>28.0</td>\n",
       "      <td>27.0</td>\n",
       "      <td>18</td>\n",
       "      <td>1154023.0</td>\n",
       "      <td>1900782.0</td>\n",
       "      <td>2013</td>\n",
       "      <td>02/04/2016 06:33:39 AM</td>\n",
       "      <td>41.883577</td>\n",
       "      <td>-87.709874</td>\n",
       "      <td>(41.883576711, -87.709874412)</td>\n",
       "    </tr>\n",
       "    <tr>\n",
       "      <th>14</th>\n",
       "      <td>10627419</td>\n",
       "      <td>HZ379465</td>\n",
       "      <td>08/03/2016 12:00:00 PM</td>\n",
       "      <td>003XX E RANDOLPH ST</td>\n",
       "      <td>1150</td>\n",
       "      <td>DECEPTIVE PRACTICE</td>\n",
       "      <td>CREDIT CARD FRAUD</td>\n",
       "      <td>STREET</td>\n",
       "      <td>False</td>\n",
       "      <td>False</td>\n",
       "      <td>...</td>\n",
       "      <td>42.0</td>\n",
       "      <td>32.0</td>\n",
       "      <td>11</td>\n",
       "      <td>1178694.0</td>\n",
       "      <td>1901250.0</td>\n",
       "      <td>2016</td>\n",
       "      <td>08/10/2016 03:55:25 PM</td>\n",
       "      <td>41.884333</td>\n",
       "      <td>-87.619267</td>\n",
       "      <td>(41.884333364, -87.619266937)</td>\n",
       "    </tr>\n",
       "    <tr>\n",
       "      <th>15</th>\n",
       "      <td>8425872</td>\n",
       "      <td>HV104343</td>\n",
       "      <td>01/04/2012 12:00:00 PM</td>\n",
       "      <td>031XX W 42ND ST</td>\n",
       "      <td>0486</td>\n",
       "      <td>BATTERY</td>\n",
       "      <td>DOMESTIC BATTERY SIMPLE</td>\n",
       "      <td>RESIDENCE</td>\n",
       "      <td>False</td>\n",
       "      <td>True</td>\n",
       "      <td>...</td>\n",
       "      <td>14.0</td>\n",
       "      <td>58.0</td>\n",
       "      <td>08B</td>\n",
       "      <td>1156118.0</td>\n",
       "      <td>1876616.0</td>\n",
       "      <td>2012</td>\n",
       "      <td>02/04/2016 06:33:39 AM</td>\n",
       "      <td>41.817220</td>\n",
       "      <td>-87.702833</td>\n",
       "      <td>(41.817220443, -87.702832921)</td>\n",
       "    </tr>\n",
       "    <tr>\n",
       "      <th>16</th>\n",
       "      <td>9357122</td>\n",
       "      <td>HW501030</td>\n",
       "      <td>10/21/2013 02:35:00 AM</td>\n",
       "      <td>008XX W BELMONT AVE</td>\n",
       "      <td>1812</td>\n",
       "      <td>NARCOTICS</td>\n",
       "      <td>POSS: CANNABIS MORE THAN 30GMS</td>\n",
       "      <td>SIDEWALK</td>\n",
       "      <td>True</td>\n",
       "      <td>False</td>\n",
       "      <td>...</td>\n",
       "      <td>44.0</td>\n",
       "      <td>6.0</td>\n",
       "      <td>18</td>\n",
       "      <td>1169878.0</td>\n",
       "      <td>1921449.0</td>\n",
       "      <td>2013</td>\n",
       "      <td>02/04/2016 06:33:39 AM</td>\n",
       "      <td>41.939957</td>\n",
       "      <td>-87.651050</td>\n",
       "      <td>(41.939957278, -87.651050072)</td>\n",
       "    </tr>\n",
       "    <tr>\n",
       "      <th>17</th>\n",
       "      <td>9223621</td>\n",
       "      <td>HW369682</td>\n",
       "      <td>07/19/2013 02:34:00 PM</td>\n",
       "      <td>012XX S INDEPENDENCE BLVD</td>\n",
       "      <td>0460</td>\n",
       "      <td>BATTERY</td>\n",
       "      <td>SIMPLE</td>\n",
       "      <td>STREET</td>\n",
       "      <td>False</td>\n",
       "      <td>False</td>\n",
       "      <td>...</td>\n",
       "      <td>24.0</td>\n",
       "      <td>29.0</td>\n",
       "      <td>08B</td>\n",
       "      <td>1151287.0</td>\n",
       "      <td>1894141.0</td>\n",
       "      <td>2013</td>\n",
       "      <td>02/04/2016 06:33:39 AM</td>\n",
       "      <td>41.865407</td>\n",
       "      <td>-87.720096</td>\n",
       "      <td>(41.865407175, -87.72009552)</td>\n",
       "    </tr>\n",
       "    <tr>\n",
       "      <th>18</th>\n",
       "      <td>9087856</td>\n",
       "      <td>HW232504</td>\n",
       "      <td>04/14/2013 11:14:00 AM</td>\n",
       "      <td>002XX S CICERO AVE</td>\n",
       "      <td>0560</td>\n",
       "      <td>ASSAULT</td>\n",
       "      <td>SIMPLE</td>\n",
       "      <td>APARTMENT</td>\n",
       "      <td>False</td>\n",
       "      <td>False</td>\n",
       "      <td>...</td>\n",
       "      <td>28.0</td>\n",
       "      <td>25.0</td>\n",
       "      <td>08A</td>\n",
       "      <td>1144417.0</td>\n",
       "      <td>1898810.0</td>\n",
       "      <td>2013</td>\n",
       "      <td>02/04/2016 06:33:39 AM</td>\n",
       "      <td>41.878351</td>\n",
       "      <td>-87.745198</td>\n",
       "      <td>(41.878351391, -87.74519839)</td>\n",
       "    </tr>\n",
       "    <tr>\n",
       "      <th>19</th>\n",
       "      <td>10639433</td>\n",
       "      <td>HZ391200</td>\n",
       "      <td>08/13/2016 10:05:00 PM</td>\n",
       "      <td>022XX N AUSTIN AVE</td>\n",
       "      <td>2826</td>\n",
       "      <td>OTHER OFFENSE</td>\n",
       "      <td>HARASSMENT BY ELECTRONIC MEANS</td>\n",
       "      <td>APARTMENT</td>\n",
       "      <td>False</td>\n",
       "      <td>False</td>\n",
       "      <td>...</td>\n",
       "      <td>37.0</td>\n",
       "      <td>19.0</td>\n",
       "      <td>26</td>\n",
       "      <td>1136031.0</td>\n",
       "      <td>1914331.0</td>\n",
       "      <td>2016</td>\n",
       "      <td>08/20/2016 03:54:24 PM</td>\n",
       "      <td>41.921097</td>\n",
       "      <td>-87.775620</td>\n",
       "      <td>(41.921096539, -87.77561994)</td>\n",
       "    </tr>\n",
       "    <tr>\n",
       "      <th>20</th>\n",
       "      <td>9705595</td>\n",
       "      <td>HX355613</td>\n",
       "      <td>07/22/2014 01:00:00 PM</td>\n",
       "      <td>061XX S WOLCOTT AVE</td>\n",
       "      <td>0890</td>\n",
       "      <td>THEFT</td>\n",
       "      <td>FROM BUILDING</td>\n",
       "      <td>OTHER</td>\n",
       "      <td>False</td>\n",
       "      <td>False</td>\n",
       "      <td>...</td>\n",
       "      <td>15.0</td>\n",
       "      <td>67.0</td>\n",
       "      <td>06</td>\n",
       "      <td>1164741.0</td>\n",
       "      <td>1863948.0</td>\n",
       "      <td>2014</td>\n",
       "      <td>02/04/2016 06:33:39 AM</td>\n",
       "      <td>41.782280</td>\n",
       "      <td>-87.671559</td>\n",
       "      <td>(41.782279941, -87.671559063)</td>\n",
       "    </tr>\n",
       "    <tr>\n",
       "      <th>21</th>\n",
       "      <td>10237119</td>\n",
       "      <td>HY425128</td>\n",
       "      <td>09/16/2015 01:28:00 AM</td>\n",
       "      <td>062XX S ROCKWELL ST</td>\n",
       "      <td>031A</td>\n",
       "      <td>ROBBERY</td>\n",
       "      <td>ARMED: HANDGUN</td>\n",
       "      <td>ALLEY</td>\n",
       "      <td>False</td>\n",
       "      <td>False</td>\n",
       "      <td>...</td>\n",
       "      <td>15.0</td>\n",
       "      <td>66.0</td>\n",
       "      <td>03</td>\n",
       "      <td>1160111.0</td>\n",
       "      <td>1863210.0</td>\n",
       "      <td>2015</td>\n",
       "      <td>09/24/2015 07:50:13 PM</td>\n",
       "      <td>41.780351</td>\n",
       "      <td>-87.688554</td>\n",
       "      <td>(41.780351295, -87.6885543)</td>\n",
       "    </tr>\n",
       "    <tr>\n",
       "      <th>22</th>\n",
       "      <td>8953243</td>\n",
       "      <td>HW102428</td>\n",
       "      <td>01/02/2013 08:26:00 PM</td>\n",
       "      <td>034XX W 27TH ST</td>\n",
       "      <td>1811</td>\n",
       "      <td>NARCOTICS</td>\n",
       "      <td>POSS: CANNABIS 30GMS OR LESS</td>\n",
       "      <td>SIDEWALK</td>\n",
       "      <td>True</td>\n",
       "      <td>False</td>\n",
       "      <td>...</td>\n",
       "      <td>22.0</td>\n",
       "      <td>30.0</td>\n",
       "      <td>18</td>\n",
       "      <td>1153691.0</td>\n",
       "      <td>1885847.0</td>\n",
       "      <td>2013</td>\n",
       "      <td>02/04/2016 06:33:39 AM</td>\n",
       "      <td>41.842600</td>\n",
       "      <td>-87.711491</td>\n",
       "      <td>(41.842600012, -87.711490787)</td>\n",
       "    </tr>\n",
       "    <tr>\n",
       "      <th>23</th>\n",
       "      <td>10425568</td>\n",
       "      <td>HZ163315</td>\n",
       "      <td>02/19/2016 01:15:00 PM</td>\n",
       "      <td>071XX S SOUTH CHICAGO AVE</td>\n",
       "      <td>0560</td>\n",
       "      <td>ASSAULT</td>\n",
       "      <td>SIMPLE</td>\n",
       "      <td>SCHOOL, PUBLIC, BUILDING</td>\n",
       "      <td>False</td>\n",
       "      <td>False</td>\n",
       "      <td>...</td>\n",
       "      <td>5.0</td>\n",
       "      <td>69.0</td>\n",
       "      <td>08A</td>\n",
       "      <td>1183013.0</td>\n",
       "      <td>1857906.0</td>\n",
       "      <td>2016</td>\n",
       "      <td>02/29/2016 03:51:18 PM</td>\n",
       "      <td>41.765295</td>\n",
       "      <td>-87.604757</td>\n",
       "      <td>(41.765294699, -87.604757012)</td>\n",
       "    </tr>\n",
       "    <tr>\n",
       "      <th>24</th>\n",
       "      <td>10759363</td>\n",
       "      <td>HZ523039</td>\n",
       "      <td>11/20/2016 05:00:00 PM</td>\n",
       "      <td>073XX S MOZART ST</td>\n",
       "      <td>031A</td>\n",
       "      <td>ROBBERY</td>\n",
       "      <td>ARMED: HANDGUN</td>\n",
       "      <td>RESIDENTIAL YARD (FRONT/BACK)</td>\n",
       "      <td>False</td>\n",
       "      <td>False</td>\n",
       "      <td>...</td>\n",
       "      <td>18.0</td>\n",
       "      <td>66.0</td>\n",
       "      <td>03</td>\n",
       "      <td>1158648.0</td>\n",
       "      <td>1855760.0</td>\n",
       "      <td>2016</td>\n",
       "      <td>11/27/2016 03:47:15 PM</td>\n",
       "      <td>41.759937</td>\n",
       "      <td>-87.694121</td>\n",
       "      <td>(41.759937376, -87.694120931)</td>\n",
       "    </tr>\n",
       "    <tr>\n",
       "      <th>25</th>\n",
       "      <td>10718293</td>\n",
       "      <td>HZ476959</td>\n",
       "      <td>10/16/2016 06:45:00 PM</td>\n",
       "      <td>040XX W KAMERLING AVE</td>\n",
       "      <td>031A</td>\n",
       "      <td>ROBBERY</td>\n",
       "      <td>ARMED: HANDGUN</td>\n",
       "      <td>SIDEWALK</td>\n",
       "      <td>False</td>\n",
       "      <td>False</td>\n",
       "      <td>...</td>\n",
       "      <td>27.0</td>\n",
       "      <td>23.0</td>\n",
       "      <td>03</td>\n",
       "      <td>1149174.0</td>\n",
       "      <td>1908685.0</td>\n",
       "      <td>2016</td>\n",
       "      <td>10/23/2016 03:53:39 PM</td>\n",
       "      <td>41.905359</td>\n",
       "      <td>-87.727476</td>\n",
       "      <td>(41.905358663, -87.72747554)</td>\n",
       "    </tr>\n",
       "    <tr>\n",
       "      <th>26</th>\n",
       "      <td>9492472</td>\n",
       "      <td>HX146703</td>\n",
       "      <td>02/10/2014 06:50:00 PM</td>\n",
       "      <td>047XX N CUMBERLAND AVE</td>\n",
       "      <td>0560</td>\n",
       "      <td>ASSAULT</td>\n",
       "      <td>SIMPLE</td>\n",
       "      <td>GROCERY FOOD STORE</td>\n",
       "      <td>False</td>\n",
       "      <td>False</td>\n",
       "      <td>...</td>\n",
       "      <td>36.0</td>\n",
       "      <td>76.0</td>\n",
       "      <td>08A</td>\n",
       "      <td>1119318.0</td>\n",
       "      <td>1930490.0</td>\n",
       "      <td>2014</td>\n",
       "      <td>02/04/2016 06:33:39 AM</td>\n",
       "      <td>41.965721</td>\n",
       "      <td>-87.836685</td>\n",
       "      <td>(41.965720818, -87.836684841)</td>\n",
       "    </tr>\n",
       "    <tr>\n",
       "      <th>27</th>\n",
       "      <td>9642560</td>\n",
       "      <td>HX293211</td>\n",
       "      <td>06/06/2014 11:51:00 PM</td>\n",
       "      <td>045XX N KENMORE AVE</td>\n",
       "      <td>1350</td>\n",
       "      <td>CRIMINAL TRESPASS</td>\n",
       "      <td>TO STATE SUP LAND</td>\n",
       "      <td>SCHOOL, PUBLIC, GROUNDS</td>\n",
       "      <td>True</td>\n",
       "      <td>False</td>\n",
       "      <td>...</td>\n",
       "      <td>46.0</td>\n",
       "      <td>3.0</td>\n",
       "      <td>26</td>\n",
       "      <td>1168407.0</td>\n",
       "      <td>1930290.0</td>\n",
       "      <td>2014</td>\n",
       "      <td>02/04/2016 06:33:39 AM</td>\n",
       "      <td>41.964249</td>\n",
       "      <td>-87.656200</td>\n",
       "      <td>(41.964249329, -87.656199698)</td>\n",
       "    </tr>\n",
       "    <tr>\n",
       "      <th>28</th>\n",
       "      <td>8625735</td>\n",
       "      <td>HV298869</td>\n",
       "      <td>05/23/2012 12:45:00 AM</td>\n",
       "      <td>001XX N FRANCISCO AVE</td>\n",
       "      <td>031A</td>\n",
       "      <td>ROBBERY</td>\n",
       "      <td>ARMED: HANDGUN</td>\n",
       "      <td>SIDEWALK</td>\n",
       "      <td>False</td>\n",
       "      <td>False</td>\n",
       "      <td>...</td>\n",
       "      <td>2.0</td>\n",
       "      <td>27.0</td>\n",
       "      <td>03</td>\n",
       "      <td>1157038.0</td>\n",
       "      <td>1900717.0</td>\n",
       "      <td>2012</td>\n",
       "      <td>02/04/2016 06:33:39 AM</td>\n",
       "      <td>41.883338</td>\n",
       "      <td>-87.698805</td>\n",
       "      <td>(41.883337705, -87.698804815)</td>\n",
       "    </tr>\n",
       "    <tr>\n",
       "      <th>29</th>\n",
       "      <td>8796175</td>\n",
       "      <td>HV470271</td>\n",
       "      <td>09/10/2012 04:00:00 PM</td>\n",
       "      <td>070XX S ASHLAND AVE</td>\n",
       "      <td>1562</td>\n",
       "      <td>SEX OFFENSE</td>\n",
       "      <td>AGG CRIMINAL SEXUAL ABUSE</td>\n",
       "      <td>GROCERY FOOD STORE</td>\n",
       "      <td>False</td>\n",
       "      <td>False</td>\n",
       "      <td>...</td>\n",
       "      <td>17.0</td>\n",
       "      <td>67.0</td>\n",
       "      <td>17</td>\n",
       "      <td>1166897.0</td>\n",
       "      <td>1858031.0</td>\n",
       "      <td>2012</td>\n",
       "      <td>02/04/2016 06:33:39 AM</td>\n",
       "      <td>41.765997</td>\n",
       "      <td>-87.663823</td>\n",
       "      <td>(41.765997125, -87.66382344)</td>\n",
       "    </tr>\n",
       "    <tr>\n",
       "      <th>...</th>\n",
       "      <td>...</td>\n",
       "      <td>...</td>\n",
       "      <td>...</td>\n",
       "      <td>...</td>\n",
       "      <td>...</td>\n",
       "      <td>...</td>\n",
       "      <td>...</td>\n",
       "      <td>...</td>\n",
       "      <td>...</td>\n",
       "      <td>...</td>\n",
       "      <td>...</td>\n",
       "      <td>...</td>\n",
       "      <td>...</td>\n",
       "      <td>...</td>\n",
       "      <td>...</td>\n",
       "      <td>...</td>\n",
       "      <td>...</td>\n",
       "      <td>...</td>\n",
       "      <td>...</td>\n",
       "      <td>...</td>\n",
       "      <td>...</td>\n",
       "    </tr>\n",
       "    <tr>\n",
       "      <th>873997</th>\n",
       "      <td>9993186</td>\n",
       "      <td>HY183008</td>\n",
       "      <td>03/12/2015 07:30:00 PM</td>\n",
       "      <td>036XX W OGDEN AVE</td>\n",
       "      <td>1310</td>\n",
       "      <td>CRIMINAL DAMAGE</td>\n",
       "      <td>TO PROPERTY</td>\n",
       "      <td>OTHER</td>\n",
       "      <td>False</td>\n",
       "      <td>False</td>\n",
       "      <td>...</td>\n",
       "      <td>24.0</td>\n",
       "      <td>29.0</td>\n",
       "      <td>14</td>\n",
       "      <td>1152598.0</td>\n",
       "      <td>1890161.0</td>\n",
       "      <td>2015</td>\n",
       "      <td>08/17/2015 03:03:40 PM</td>\n",
       "      <td>41.854460</td>\n",
       "      <td>-87.715388</td>\n",
       "      <td>(41.854459796, -87.715387915)</td>\n",
       "    </tr>\n",
       "    <tr>\n",
       "      <th>873998</th>\n",
       "      <td>8682504</td>\n",
       "      <td>HV357379</td>\n",
       "      <td>06/28/2012 03:20:00 PM</td>\n",
       "      <td>024XX E 105TH ST</td>\n",
       "      <td>0460</td>\n",
       "      <td>BATTERY</td>\n",
       "      <td>SIMPLE</td>\n",
       "      <td>PARK PROPERTY</td>\n",
       "      <td>False</td>\n",
       "      <td>False</td>\n",
       "      <td>...</td>\n",
       "      <td>10.0</td>\n",
       "      <td>51.0</td>\n",
       "      <td>08B</td>\n",
       "      <td>1193897.0</td>\n",
       "      <td>1835873.0</td>\n",
       "      <td>2012</td>\n",
       "      <td>02/04/2016 06:33:39 AM</td>\n",
       "      <td>41.704574</td>\n",
       "      <td>-87.565585</td>\n",
       "      <td>(41.704574292, -87.565584886)</td>\n",
       "    </tr>\n",
       "    <tr>\n",
       "      <th>873999</th>\n",
       "      <td>9937514</td>\n",
       "      <td>HY125951</td>\n",
       "      <td>01/23/2015 02:50:00 PM</td>\n",
       "      <td>109XX S DOTY AVE E</td>\n",
       "      <td>0860</td>\n",
       "      <td>THEFT</td>\n",
       "      <td>RETAIL THEFT</td>\n",
       "      <td>DEPARTMENT STORE</td>\n",
       "      <td>True</td>\n",
       "      <td>False</td>\n",
       "      <td>...</td>\n",
       "      <td>10.0</td>\n",
       "      <td>51.0</td>\n",
       "      <td>06</td>\n",
       "      <td>1185667.0</td>\n",
       "      <td>1832643.0</td>\n",
       "      <td>2015</td>\n",
       "      <td>08/17/2015 03:03:40 PM</td>\n",
       "      <td>41.695908</td>\n",
       "      <td>-87.595823</td>\n",
       "      <td>(41.695908161, -87.595822806)</td>\n",
       "    </tr>\n",
       "    <tr>\n",
       "      <th>874000</th>\n",
       "      <td>10205651</td>\n",
       "      <td>HY392341</td>\n",
       "      <td>08/21/2015 04:00:00 PM</td>\n",
       "      <td>003XX E 132ND ST</td>\n",
       "      <td>1310</td>\n",
       "      <td>CRIMINAL DAMAGE</td>\n",
       "      <td>TO PROPERTY</td>\n",
       "      <td>RESIDENCE</td>\n",
       "      <td>False</td>\n",
       "      <td>False</td>\n",
       "      <td>...</td>\n",
       "      <td>9.0</td>\n",
       "      <td>54.0</td>\n",
       "      <td>14</td>\n",
       "      <td>1180835.0</td>\n",
       "      <td>1817919.0</td>\n",
       "      <td>2015</td>\n",
       "      <td>08/31/2015 03:43:09 PM</td>\n",
       "      <td>41.655616</td>\n",
       "      <td>-87.613964</td>\n",
       "      <td>(41.655615518, -87.613964419)</td>\n",
       "    </tr>\n",
       "    <tr>\n",
       "      <th>874001</th>\n",
       "      <td>9868811</td>\n",
       "      <td>HX519377</td>\n",
       "      <td>11/24/2014 04:20:00 PM</td>\n",
       "      <td>002XX W 91ST ST</td>\n",
       "      <td>1310</td>\n",
       "      <td>CRIMINAL DAMAGE</td>\n",
       "      <td>TO PROPERTY</td>\n",
       "      <td>RESIDENCE</td>\n",
       "      <td>False</td>\n",
       "      <td>False</td>\n",
       "      <td>...</td>\n",
       "      <td>21.0</td>\n",
       "      <td>49.0</td>\n",
       "      <td>14</td>\n",
       "      <td>1176266.0</td>\n",
       "      <td>1844607.0</td>\n",
       "      <td>2014</td>\n",
       "      <td>02/04/2016 06:33:39 AM</td>\n",
       "      <td>41.728955</td>\n",
       "      <td>-87.629885</td>\n",
       "      <td>(41.728954781, -87.629885173)</td>\n",
       "    </tr>\n",
       "    <tr>\n",
       "      <th>874002</th>\n",
       "      <td>10698260</td>\n",
       "      <td>HZ453073</td>\n",
       "      <td>09/24/2016 02:00:00 PM</td>\n",
       "      <td>012XX S LAKE SHORE DR E</td>\n",
       "      <td>0890</td>\n",
       "      <td>THEFT</td>\n",
       "      <td>FROM BUILDING</td>\n",
       "      <td>OTHER</td>\n",
       "      <td>False</td>\n",
       "      <td>False</td>\n",
       "      <td>...</td>\n",
       "      <td>2.0</td>\n",
       "      <td>33.0</td>\n",
       "      <td>06</td>\n",
       "      <td>NaN</td>\n",
       "      <td>NaN</td>\n",
       "      <td>2016</td>\n",
       "      <td>10/04/2016 03:50:48 PM</td>\n",
       "      <td>NaN</td>\n",
       "      <td>NaN</td>\n",
       "      <td>NaN</td>\n",
       "    </tr>\n",
       "    <tr>\n",
       "      <th>874003</th>\n",
       "      <td>8815232</td>\n",
       "      <td>HV488965</td>\n",
       "      <td>09/24/2012 12:14:00 AM</td>\n",
       "      <td>046XX S WALLACE ST</td>\n",
       "      <td>0460</td>\n",
       "      <td>BATTERY</td>\n",
       "      <td>SIMPLE</td>\n",
       "      <td>CTA TRAIN</td>\n",
       "      <td>True</td>\n",
       "      <td>False</td>\n",
       "      <td>...</td>\n",
       "      <td>11.0</td>\n",
       "      <td>61.0</td>\n",
       "      <td>08B</td>\n",
       "      <td>1173070.0</td>\n",
       "      <td>1874317.0</td>\n",
       "      <td>2012</td>\n",
       "      <td>02/04/2016 06:33:39 AM</td>\n",
       "      <td>41.810554</td>\n",
       "      <td>-87.640716</td>\n",
       "      <td>(41.810553606, -87.640716405)</td>\n",
       "    </tr>\n",
       "    <tr>\n",
       "      <th>874004</th>\n",
       "      <td>9038640</td>\n",
       "      <td>HW184795</td>\n",
       "      <td>03/09/2013 12:20:00 AM</td>\n",
       "      <td>016XX S HARDING AVE</td>\n",
       "      <td>0430</td>\n",
       "      <td>BATTERY</td>\n",
       "      <td>AGGRAVATED: OTHER DANG WEAPON</td>\n",
       "      <td>SIDEWALK</td>\n",
       "      <td>False</td>\n",
       "      <td>False</td>\n",
       "      <td>...</td>\n",
       "      <td>24.0</td>\n",
       "      <td>29.0</td>\n",
       "      <td>04B</td>\n",
       "      <td>1150325.0</td>\n",
       "      <td>1891548.0</td>\n",
       "      <td>2013</td>\n",
       "      <td>02/04/2016 06:33:39 AM</td>\n",
       "      <td>41.858310</td>\n",
       "      <td>-87.723695</td>\n",
       "      <td>(41.858310477, -87.723694681)</td>\n",
       "    </tr>\n",
       "    <tr>\n",
       "      <th>874005</th>\n",
       "      <td>8879543</td>\n",
       "      <td>HV553204</td>\n",
       "      <td>11/08/2012 12:01:00 AM</td>\n",
       "      <td>038XX W MAYPOLE AVE</td>\n",
       "      <td>0920</td>\n",
       "      <td>MOTOR VEHICLE THEFT</td>\n",
       "      <td>ATT: AUTOMOBILE</td>\n",
       "      <td>STREET</td>\n",
       "      <td>False</td>\n",
       "      <td>False</td>\n",
       "      <td>...</td>\n",
       "      <td>28.0</td>\n",
       "      <td>26.0</td>\n",
       "      <td>07</td>\n",
       "      <td>1150705.0</td>\n",
       "      <td>1900939.0</td>\n",
       "      <td>2012</td>\n",
       "      <td>02/04/2016 06:33:39 AM</td>\n",
       "      <td>41.884073</td>\n",
       "      <td>-87.722054</td>\n",
       "      <td>(41.884073036, -87.722054351)</td>\n",
       "    </tr>\n",
       "    <tr>\n",
       "      <th>874006</th>\n",
       "      <td>9379973</td>\n",
       "      <td>HW523053</td>\n",
       "      <td>11/06/2013 01:10:00 PM</td>\n",
       "      <td>036XX W CHICAGO AVE</td>\n",
       "      <td>0486</td>\n",
       "      <td>BATTERY</td>\n",
       "      <td>DOMESTIC BATTERY SIMPLE</td>\n",
       "      <td>STREET</td>\n",
       "      <td>False</td>\n",
       "      <td>True</td>\n",
       "      <td>...</td>\n",
       "      <td>27.0</td>\n",
       "      <td>23.0</td>\n",
       "      <td>08B</td>\n",
       "      <td>1152155.0</td>\n",
       "      <td>1905098.0</td>\n",
       "      <td>2013</td>\n",
       "      <td>02/04/2016 06:33:39 AM</td>\n",
       "      <td>41.895457</td>\n",
       "      <td>-87.716620</td>\n",
       "      <td>(41.895457291, -87.716619992)</td>\n",
       "    </tr>\n",
       "    <tr>\n",
       "      <th>874007</th>\n",
       "      <td>10272039</td>\n",
       "      <td>HY460246</td>\n",
       "      <td>10/13/2015 11:30:00 AM</td>\n",
       "      <td>040XX W FOSTER AVE</td>\n",
       "      <td>0860</td>\n",
       "      <td>THEFT</td>\n",
       "      <td>RETAIL THEFT</td>\n",
       "      <td>GROCERY FOOD STORE</td>\n",
       "      <td>True</td>\n",
       "      <td>False</td>\n",
       "      <td>...</td>\n",
       "      <td>39.0</td>\n",
       "      <td>13.0</td>\n",
       "      <td>06</td>\n",
       "      <td>1148424.0</td>\n",
       "      <td>1934247.0</td>\n",
       "      <td>2015</td>\n",
       "      <td>10/20/2015 03:56:48 PM</td>\n",
       "      <td>41.975517</td>\n",
       "      <td>-87.729569</td>\n",
       "      <td>(41.97551745, -87.729569215)</td>\n",
       "    </tr>\n",
       "    <tr>\n",
       "      <th>874008</th>\n",
       "      <td>8772767</td>\n",
       "      <td>HV447434</td>\n",
       "      <td>08/26/2012 04:30:00 AM</td>\n",
       "      <td>010XX W MARQUETTE RD</td>\n",
       "      <td>0486</td>\n",
       "      <td>BATTERY</td>\n",
       "      <td>DOMESTIC BATTERY SIMPLE</td>\n",
       "      <td>RESIDENCE</td>\n",
       "      <td>False</td>\n",
       "      <td>False</td>\n",
       "      <td>...</td>\n",
       "      <td>17.0</td>\n",
       "      <td>68.0</td>\n",
       "      <td>08B</td>\n",
       "      <td>1170645.0</td>\n",
       "      <td>1860392.0</td>\n",
       "      <td>2012</td>\n",
       "      <td>02/04/2016 06:33:39 AM</td>\n",
       "      <td>41.772395</td>\n",
       "      <td>-87.650017</td>\n",
       "      <td>(41.772395124, -87.65001697)</td>\n",
       "    </tr>\n",
       "    <tr>\n",
       "      <th>874009</th>\n",
       "      <td>10012433</td>\n",
       "      <td>HY202099</td>\n",
       "      <td>03/28/2015 09:05:00 PM</td>\n",
       "      <td>073XX S CARPENTER ST</td>\n",
       "      <td>1811</td>\n",
       "      <td>NARCOTICS</td>\n",
       "      <td>POSS: CANNABIS 30GMS OR LESS</td>\n",
       "      <td>STREET</td>\n",
       "      <td>True</td>\n",
       "      <td>False</td>\n",
       "      <td>...</td>\n",
       "      <td>17.0</td>\n",
       "      <td>68.0</td>\n",
       "      <td>18</td>\n",
       "      <td>1170585.0</td>\n",
       "      <td>1856103.0</td>\n",
       "      <td>2015</td>\n",
       "      <td>08/17/2015 03:03:40 PM</td>\n",
       "      <td>41.760627</td>\n",
       "      <td>-87.650362</td>\n",
       "      <td>(41.76062688, -87.650361752)</td>\n",
       "    </tr>\n",
       "    <tr>\n",
       "      <th>874010</th>\n",
       "      <td>9214137</td>\n",
       "      <td>HW358928</td>\n",
       "      <td>07/10/2013 08:00:00 PM</td>\n",
       "      <td>047XX S PRINCETON AVE</td>\n",
       "      <td>0820</td>\n",
       "      <td>THEFT</td>\n",
       "      <td>$500 AND UNDER</td>\n",
       "      <td>RESIDENCE</td>\n",
       "      <td>False</td>\n",
       "      <td>True</td>\n",
       "      <td>...</td>\n",
       "      <td>3.0</td>\n",
       "      <td>37.0</td>\n",
       "      <td>06</td>\n",
       "      <td>1175090.0</td>\n",
       "      <td>1873443.0</td>\n",
       "      <td>2013</td>\n",
       "      <td>02/04/2016 06:33:39 AM</td>\n",
       "      <td>41.808110</td>\n",
       "      <td>-87.633333</td>\n",
       "      <td>(41.808110354, -87.633333417)</td>\n",
       "    </tr>\n",
       "    <tr>\n",
       "      <th>874011</th>\n",
       "      <td>10716212</td>\n",
       "      <td>HZ474306</td>\n",
       "      <td>10/14/2016 07:00:00 AM</td>\n",
       "      <td>022XX N SOUTHPORT AVE</td>\n",
       "      <td>0810</td>\n",
       "      <td>THEFT</td>\n",
       "      <td>OVER $500</td>\n",
       "      <td>STREET</td>\n",
       "      <td>False</td>\n",
       "      <td>False</td>\n",
       "      <td>...</td>\n",
       "      <td>32.0</td>\n",
       "      <td>7.0</td>\n",
       "      <td>06</td>\n",
       "      <td>1166620.0</td>\n",
       "      <td>1914905.0</td>\n",
       "      <td>2016</td>\n",
       "      <td>10/21/2016 03:58:01 PM</td>\n",
       "      <td>41.922071</td>\n",
       "      <td>-87.663212</td>\n",
       "      <td>(41.922070725, -87.663212167)</td>\n",
       "    </tr>\n",
       "    <tr>\n",
       "      <th>874012</th>\n",
       "      <td>9392911</td>\n",
       "      <td>HW536591</td>\n",
       "      <td>11/17/2013 01:00:00 AM</td>\n",
       "      <td>008XX S PLYMOUTH CT</td>\n",
       "      <td>0497</td>\n",
       "      <td>BATTERY</td>\n",
       "      <td>AGGRAVATED DOMESTIC BATTERY: OTHER DANG WEAPON</td>\n",
       "      <td>RESIDENCE</td>\n",
       "      <td>False</td>\n",
       "      <td>False</td>\n",
       "      <td>...</td>\n",
       "      <td>2.0</td>\n",
       "      <td>32.0</td>\n",
       "      <td>04B</td>\n",
       "      <td>1176194.0</td>\n",
       "      <td>1896270.0</td>\n",
       "      <td>2013</td>\n",
       "      <td>02/04/2016 06:33:39 AM</td>\n",
       "      <td>41.870725</td>\n",
       "      <td>-87.628597</td>\n",
       "      <td>(41.870724666, -87.628597294)</td>\n",
       "    </tr>\n",
       "    <tr>\n",
       "      <th>874013</th>\n",
       "      <td>10523831</td>\n",
       "      <td>HZ266471</td>\n",
       "      <td>05/16/2016 10:20:00 AM</td>\n",
       "      <td>048XX N AVERS AVE</td>\n",
       "      <td>0530</td>\n",
       "      <td>ASSAULT</td>\n",
       "      <td>AGGRAVATED: OTHER DANG WEAPON</td>\n",
       "      <td>RESIDENCE PORCH/HALLWAY</td>\n",
       "      <td>True</td>\n",
       "      <td>True</td>\n",
       "      <td>...</td>\n",
       "      <td>39.0</td>\n",
       "      <td>14.0</td>\n",
       "      <td>04A</td>\n",
       "      <td>1149838.0</td>\n",
       "      <td>1931964.0</td>\n",
       "      <td>2016</td>\n",
       "      <td>05/23/2016 03:51:11 PM</td>\n",
       "      <td>41.969225</td>\n",
       "      <td>-87.724429</td>\n",
       "      <td>(41.969225282, -87.724429061)</td>\n",
       "    </tr>\n",
       "    <tr>\n",
       "      <th>874014</th>\n",
       "      <td>8448373</td>\n",
       "      <td>HV126236</td>\n",
       "      <td>01/13/2012 02:44:00 PM</td>\n",
       "      <td>062XX S DR MARTIN LUTHER KING JR DR</td>\n",
       "      <td>1120</td>\n",
       "      <td>DECEPTIVE PRACTICE</td>\n",
       "      <td>FORGERY</td>\n",
       "      <td>RESIDENCE</td>\n",
       "      <td>False</td>\n",
       "      <td>False</td>\n",
       "      <td>...</td>\n",
       "      <td>20.0</td>\n",
       "      <td>40.0</td>\n",
       "      <td>10</td>\n",
       "      <td>1179989.0</td>\n",
       "      <td>1863814.0</td>\n",
       "      <td>2012</td>\n",
       "      <td>02/04/2016 06:33:39 AM</td>\n",
       "      <td>41.781577</td>\n",
       "      <td>-87.615660</td>\n",
       "      <td>(41.781576603, -87.615660095)</td>\n",
       "    </tr>\n",
       "    <tr>\n",
       "      <th>874015</th>\n",
       "      <td>8718455</td>\n",
       "      <td>HV395368</td>\n",
       "      <td>07/22/2012 04:45:00 PM</td>\n",
       "      <td>001XX E 57TH ST</td>\n",
       "      <td>1320</td>\n",
       "      <td>CRIMINAL DAMAGE</td>\n",
       "      <td>TO VEHICLE</td>\n",
       "      <td>STREET</td>\n",
       "      <td>False</td>\n",
       "      <td>False</td>\n",
       "      <td>...</td>\n",
       "      <td>20.0</td>\n",
       "      <td>40.0</td>\n",
       "      <td>14</td>\n",
       "      <td>1178285.0</td>\n",
       "      <td>1867261.0</td>\n",
       "      <td>2012</td>\n",
       "      <td>02/04/2016 06:33:39 AM</td>\n",
       "      <td>41.791074</td>\n",
       "      <td>-87.621803</td>\n",
       "      <td>(41.791074368, -87.62180273)</td>\n",
       "    </tr>\n",
       "    <tr>\n",
       "      <th>874016</th>\n",
       "      <td>10351676</td>\n",
       "      <td>HY542285</td>\n",
       "      <td>12/18/2015 04:02:00 PM</td>\n",
       "      <td>008XX N MICHIGAN AVE</td>\n",
       "      <td>0860</td>\n",
       "      <td>THEFT</td>\n",
       "      <td>RETAIL THEFT</td>\n",
       "      <td>DEPARTMENT STORE</td>\n",
       "      <td>False</td>\n",
       "      <td>False</td>\n",
       "      <td>...</td>\n",
       "      <td>42.0</td>\n",
       "      <td>8.0</td>\n",
       "      <td>06</td>\n",
       "      <td>1177338.0</td>\n",
       "      <td>1906181.0</td>\n",
       "      <td>2015</td>\n",
       "      <td>12/25/2015 03:51:45 PM</td>\n",
       "      <td>41.897895</td>\n",
       "      <td>-87.624097</td>\n",
       "      <td>(41.897895128, -87.624096605)</td>\n",
       "    </tr>\n",
       "    <tr>\n",
       "      <th>874017</th>\n",
       "      <td>8661345</td>\n",
       "      <td>HV335228</td>\n",
       "      <td>06/14/2012 10:22:00 PM</td>\n",
       "      <td>060XX N BROADWAY</td>\n",
       "      <td>0820</td>\n",
       "      <td>THEFT</td>\n",
       "      <td>$500 AND UNDER</td>\n",
       "      <td>SIDEWALK</td>\n",
       "      <td>False</td>\n",
       "      <td>False</td>\n",
       "      <td>...</td>\n",
       "      <td>48.0</td>\n",
       "      <td>77.0</td>\n",
       "      <td>06</td>\n",
       "      <td>1167213.0</td>\n",
       "      <td>1940125.0</td>\n",
       "      <td>2012</td>\n",
       "      <td>02/04/2016 06:33:39 AM</td>\n",
       "      <td>41.991263</td>\n",
       "      <td>-87.660306</td>\n",
       "      <td>(41.991262667, -87.660305558)</td>\n",
       "    </tr>\n",
       "    <tr>\n",
       "      <th>874018</th>\n",
       "      <td>10200421</td>\n",
       "      <td>HY388071</td>\n",
       "      <td>08/18/2015 06:16:00 PM</td>\n",
       "      <td>008XX W NORTH AVE</td>\n",
       "      <td>2820</td>\n",
       "      <td>OTHER OFFENSE</td>\n",
       "      <td>TELEPHONE THREAT</td>\n",
       "      <td>SMALL RETAIL STORE</td>\n",
       "      <td>False</td>\n",
       "      <td>False</td>\n",
       "      <td>...</td>\n",
       "      <td>43.0</td>\n",
       "      <td>8.0</td>\n",
       "      <td>26</td>\n",
       "      <td>1170635.0</td>\n",
       "      <td>1910871.0</td>\n",
       "      <td>2015</td>\n",
       "      <td>08/31/2015 03:43:09 PM</td>\n",
       "      <td>41.910914</td>\n",
       "      <td>-87.648578</td>\n",
       "      <td>(41.910914175, -87.648578343)</td>\n",
       "    </tr>\n",
       "    <tr>\n",
       "      <th>874019</th>\n",
       "      <td>9780619</td>\n",
       "      <td>HX430267</td>\n",
       "      <td>09/02/2014 12:36:00 PM</td>\n",
       "      <td>027XX W ROOSEVELT RD</td>\n",
       "      <td>0820</td>\n",
       "      <td>THEFT</td>\n",
       "      <td>$500 AND UNDER</td>\n",
       "      <td>OTHER</td>\n",
       "      <td>False</td>\n",
       "      <td>False</td>\n",
       "      <td>...</td>\n",
       "      <td>28.0</td>\n",
       "      <td>29.0</td>\n",
       "      <td>06</td>\n",
       "      <td>1158071.0</td>\n",
       "      <td>1894595.0</td>\n",
       "      <td>2014</td>\n",
       "      <td>02/04/2016 06:33:39 AM</td>\n",
       "      <td>41.866517</td>\n",
       "      <td>-87.695179</td>\n",
       "      <td>(41.866517317, -87.695178701)</td>\n",
       "    </tr>\n",
       "    <tr>\n",
       "      <th>874020</th>\n",
       "      <td>9155726</td>\n",
       "      <td>HW299684</td>\n",
       "      <td>05/23/2013 09:00:00 PM</td>\n",
       "      <td>0000X W ILLINOIS ST</td>\n",
       "      <td>0890</td>\n",
       "      <td>THEFT</td>\n",
       "      <td>FROM BUILDING</td>\n",
       "      <td>HOTEL/MOTEL</td>\n",
       "      <td>False</td>\n",
       "      <td>False</td>\n",
       "      <td>...</td>\n",
       "      <td>42.0</td>\n",
       "      <td>8.0</td>\n",
       "      <td>06</td>\n",
       "      <td>1175996.0</td>\n",
       "      <td>1903601.0</td>\n",
       "      <td>2013</td>\n",
       "      <td>02/04/2016 06:33:39 AM</td>\n",
       "      <td>41.890846</td>\n",
       "      <td>-87.629103</td>\n",
       "      <td>(41.890845813, -87.629103359)</td>\n",
       "    </tr>\n",
       "    <tr>\n",
       "      <th>874021</th>\n",
       "      <td>9462514</td>\n",
       "      <td>HX115049</td>\n",
       "      <td>01/15/2014 07:15:00 AM</td>\n",
       "      <td>090XX S PRINCETON AVE</td>\n",
       "      <td>0460</td>\n",
       "      <td>BATTERY</td>\n",
       "      <td>SIMPLE</td>\n",
       "      <td>STREET</td>\n",
       "      <td>True</td>\n",
       "      <td>False</td>\n",
       "      <td>...</td>\n",
       "      <td>21.0</td>\n",
       "      <td>49.0</td>\n",
       "      <td>08B</td>\n",
       "      <td>1175940.0</td>\n",
       "      <td>1844713.0</td>\n",
       "      <td>2014</td>\n",
       "      <td>02/04/2016 06:33:39 AM</td>\n",
       "      <td>41.729253</td>\n",
       "      <td>-87.631076</td>\n",
       "      <td>(41.729252964, -87.631076215)</td>\n",
       "    </tr>\n",
       "    <tr>\n",
       "      <th>874022</th>\n",
       "      <td>9940054</td>\n",
       "      <td>HY129013</td>\n",
       "      <td>01/23/2015 09:30:00 AM</td>\n",
       "      <td>001XX S MICHIGAN AVE</td>\n",
       "      <td>1330</td>\n",
       "      <td>CRIMINAL TRESPASS</td>\n",
       "      <td>TO LAND</td>\n",
       "      <td>SCHOOL, PRIVATE, BUILDING</td>\n",
       "      <td>False</td>\n",
       "      <td>False</td>\n",
       "      <td>...</td>\n",
       "      <td>42.0</td>\n",
       "      <td>32.0</td>\n",
       "      <td>26</td>\n",
       "      <td>1177321.0</td>\n",
       "      <td>1899793.0</td>\n",
       "      <td>2015</td>\n",
       "      <td>08/17/2015 03:03:40 PM</td>\n",
       "      <td>41.880367</td>\n",
       "      <td>-87.624353</td>\n",
       "      <td>(41.880366516, -87.6243529)</td>\n",
       "    </tr>\n",
       "    <tr>\n",
       "      <th>874023</th>\n",
       "      <td>9813351</td>\n",
       "      <td>HX462208</td>\n",
       "      <td>10/09/2014 11:00:00 AM</td>\n",
       "      <td>001XX N LA SALLE ST</td>\n",
       "      <td>0560</td>\n",
       "      <td>ASSAULT</td>\n",
       "      <td>SIMPLE</td>\n",
       "      <td>OTHER</td>\n",
       "      <td>False</td>\n",
       "      <td>False</td>\n",
       "      <td>...</td>\n",
       "      <td>42.0</td>\n",
       "      <td>32.0</td>\n",
       "      <td>08A</td>\n",
       "      <td>1175108.0</td>\n",
       "      <td>1901391.0</td>\n",
       "      <td>2014</td>\n",
       "      <td>02/04/2016 06:33:39 AM</td>\n",
       "      <td>41.884801</td>\n",
       "      <td>-87.632431</td>\n",
       "      <td>(41.884801401, -87.632430795)</td>\n",
       "    </tr>\n",
       "    <tr>\n",
       "      <th>874024</th>\n",
       "      <td>10740462</td>\n",
       "      <td>HZ500295</td>\n",
       "      <td>11/03/2016 01:21:00 AM</td>\n",
       "      <td>073XX S MAPLEWOOD AVE</td>\n",
       "      <td>1020</td>\n",
       "      <td>ARSON</td>\n",
       "      <td>BY FIRE</td>\n",
       "      <td>RESIDENCE</td>\n",
       "      <td>False</td>\n",
       "      <td>False</td>\n",
       "      <td>...</td>\n",
       "      <td>18.0</td>\n",
       "      <td>66.0</td>\n",
       "      <td>09</td>\n",
       "      <td>1160647.0</td>\n",
       "      <td>1855864.0</td>\n",
       "      <td>2016</td>\n",
       "      <td>11/10/2016 03:59:03 PM</td>\n",
       "      <td>41.760182</td>\n",
       "      <td>-87.686792</td>\n",
       "      <td>(41.760181773, -87.686791677)</td>\n",
       "    </tr>\n",
       "    <tr>\n",
       "      <th>874025</th>\n",
       "      <td>9395595</td>\n",
       "      <td>HW523655</td>\n",
       "      <td>11/06/2013 07:09:30 PM</td>\n",
       "      <td>048XX W NORTH AVE</td>\n",
       "      <td>2024</td>\n",
       "      <td>NARCOTICS</td>\n",
       "      <td>POSS: HEROIN(WHITE)</td>\n",
       "      <td>RESIDENCE</td>\n",
       "      <td>True</td>\n",
       "      <td>False</td>\n",
       "      <td>...</td>\n",
       "      <td>37.0</td>\n",
       "      <td>25.0</td>\n",
       "      <td>18</td>\n",
       "      <td>1143676.0</td>\n",
       "      <td>1910195.0</td>\n",
       "      <td>2013</td>\n",
       "      <td>02/04/2016 06:33:39 AM</td>\n",
       "      <td>41.909607</td>\n",
       "      <td>-87.747634</td>\n",
       "      <td>(41.909607048, -87.747633849)</td>\n",
       "    </tr>\n",
       "    <tr>\n",
       "      <th>874026</th>\n",
       "      <td>10740262</td>\n",
       "      <td>HZ500176</td>\n",
       "      <td>11/02/2016 09:37:00 PM</td>\n",
       "      <td>052XX W MONTROSE AVE</td>\n",
       "      <td>0560</td>\n",
       "      <td>ASSAULT</td>\n",
       "      <td>SIMPLE</td>\n",
       "      <td>ALLEY</td>\n",
       "      <td>False</td>\n",
       "      <td>False</td>\n",
       "      <td>...</td>\n",
       "      <td>45.0</td>\n",
       "      <td>15.0</td>\n",
       "      <td>08A</td>\n",
       "      <td>1140667.0</td>\n",
       "      <td>1928754.0</td>\n",
       "      <td>2016</td>\n",
       "      <td>11/09/2016 04:17:18 PM</td>\n",
       "      <td>41.960591</td>\n",
       "      <td>-87.758230</td>\n",
       "      <td>(41.960590669, -87.758230423)</td>\n",
       "    </tr>\n",
       "  </tbody>\n",
       "</table>\n",
       "<p>874027 rows × 22 columns</p>\n",
       "</div>"
      ],
      "text/plain": [
       "              ID Case Number                    Date  \\\n",
       "0        9997156    HY187464  03/16/2015 10:55:00 PM   \n",
       "1        8503988    HV180396  03/02/2012 01:00:00 PM   \n",
       "2       10756290    HZ518998  11/17/2016 01:35:00 PM   \n",
       "3       10187054    HY374963  08/09/2015 03:25:00 AM   \n",
       "4        9607779    HX258115  05/12/2014 01:10:00 AM   \n",
       "5        9088992    HW233922  04/15/2013 07:45:00 AM   \n",
       "6        8479895    HV156457  02/12/2012 10:40:00 AM   \n",
       "7        8703745    HV379698  07/12/2012 06:12:00 PM   \n",
       "8        8530062    HV207336  03/21/2012 02:35:00 AM   \n",
       "9       10438860    HZ177428  03/07/2016 05:38:00 AM   \n",
       "10       8689720    HV365131  06/07/2012 10:00:00 AM   \n",
       "11      10434754    HZ163938  02/24/2016 07:28:00 PM   \n",
       "12      10721987    HZ480744  10/10/2016 12:30:00 AM   \n",
       "13       9260949    HW387245  07/31/2013 02:44:28 PM   \n",
       "14      10627419    HZ379465  08/03/2016 12:00:00 PM   \n",
       "15       8425872    HV104343  01/04/2012 12:00:00 PM   \n",
       "16       9357122    HW501030  10/21/2013 02:35:00 AM   \n",
       "17       9223621    HW369682  07/19/2013 02:34:00 PM   \n",
       "18       9087856    HW232504  04/14/2013 11:14:00 AM   \n",
       "19      10639433    HZ391200  08/13/2016 10:05:00 PM   \n",
       "20       9705595    HX355613  07/22/2014 01:00:00 PM   \n",
       "21      10237119    HY425128  09/16/2015 01:28:00 AM   \n",
       "22       8953243    HW102428  01/02/2013 08:26:00 PM   \n",
       "23      10425568    HZ163315  02/19/2016 01:15:00 PM   \n",
       "24      10759363    HZ523039  11/20/2016 05:00:00 PM   \n",
       "25      10718293    HZ476959  10/16/2016 06:45:00 PM   \n",
       "26       9492472    HX146703  02/10/2014 06:50:00 PM   \n",
       "27       9642560    HX293211  06/06/2014 11:51:00 PM   \n",
       "28       8625735    HV298869  05/23/2012 12:45:00 AM   \n",
       "29       8796175    HV470271  09/10/2012 04:00:00 PM   \n",
       "...          ...         ...                     ...   \n",
       "873997   9993186    HY183008  03/12/2015 07:30:00 PM   \n",
       "873998   8682504    HV357379  06/28/2012 03:20:00 PM   \n",
       "873999   9937514    HY125951  01/23/2015 02:50:00 PM   \n",
       "874000  10205651    HY392341  08/21/2015 04:00:00 PM   \n",
       "874001   9868811    HX519377  11/24/2014 04:20:00 PM   \n",
       "874002  10698260    HZ453073  09/24/2016 02:00:00 PM   \n",
       "874003   8815232    HV488965  09/24/2012 12:14:00 AM   \n",
       "874004   9038640    HW184795  03/09/2013 12:20:00 AM   \n",
       "874005   8879543    HV553204  11/08/2012 12:01:00 AM   \n",
       "874006   9379973    HW523053  11/06/2013 01:10:00 PM   \n",
       "874007  10272039    HY460246  10/13/2015 11:30:00 AM   \n",
       "874008   8772767    HV447434  08/26/2012 04:30:00 AM   \n",
       "874009  10012433    HY202099  03/28/2015 09:05:00 PM   \n",
       "874010   9214137    HW358928  07/10/2013 08:00:00 PM   \n",
       "874011  10716212    HZ474306  10/14/2016 07:00:00 AM   \n",
       "874012   9392911    HW536591  11/17/2013 01:00:00 AM   \n",
       "874013  10523831    HZ266471  05/16/2016 10:20:00 AM   \n",
       "874014   8448373    HV126236  01/13/2012 02:44:00 PM   \n",
       "874015   8718455    HV395368  07/22/2012 04:45:00 PM   \n",
       "874016  10351676    HY542285  12/18/2015 04:02:00 PM   \n",
       "874017   8661345    HV335228  06/14/2012 10:22:00 PM   \n",
       "874018  10200421    HY388071  08/18/2015 06:16:00 PM   \n",
       "874019   9780619    HX430267  09/02/2014 12:36:00 PM   \n",
       "874020   9155726    HW299684  05/23/2013 09:00:00 PM   \n",
       "874021   9462514    HX115049  01/15/2014 07:15:00 AM   \n",
       "874022   9940054    HY129013  01/23/2015 09:30:00 AM   \n",
       "874023   9813351    HX462208  10/09/2014 11:00:00 AM   \n",
       "874024  10740462    HZ500295  11/03/2016 01:21:00 AM   \n",
       "874025   9395595    HW523655  11/06/2013 07:09:30 PM   \n",
       "874026  10740262    HZ500176  11/02/2016 09:37:00 PM   \n",
       "\n",
       "                                      Block  IUCR         Primary Type  \\\n",
       "0                        037XX N BERNARD ST  0520              ASSAULT   \n",
       "1                      096XX S MICHIGAN AVE  1811            NARCOTICS   \n",
       "2                           030XX E 79TH ST  1365    CRIMINAL TRESPASS   \n",
       "3                        040XX N PULASKI RD  0486              BATTERY   \n",
       "4                      018XX W LAWRENCE AVE  0460              BATTERY   \n",
       "5                       079XX S LOOMIS BLVD  0810                THEFT   \n",
       "6                       061XX W GIDDINGS ST  2820        OTHER OFFENSE   \n",
       "7                    051XX S HYDE PARK BLVD  0320              ROBBERY   \n",
       "8                       0000X W ILLINOIS ST  2027            NARCOTICS   \n",
       "9                           0000X E LAKE ST  0320              ROBBERY   \n",
       "10                     008XX W CORNELIA AVE  1365    CRIMINAL TRESPASS   \n",
       "11                         003XX W 103RD ST  0860                THEFT   \n",
       "12                      080XX S LANGLEY AVE  1152   DECEPTIVE PRACTICE   \n",
       "13                      033XX W MAYPOLE AVE  1812            NARCOTICS   \n",
       "14                      003XX E RANDOLPH ST  1150   DECEPTIVE PRACTICE   \n",
       "15                          031XX W 42ND ST  0486              BATTERY   \n",
       "16                      008XX W BELMONT AVE  1812            NARCOTICS   \n",
       "17                012XX S INDEPENDENCE BLVD  0460              BATTERY   \n",
       "18                       002XX S CICERO AVE  0560              ASSAULT   \n",
       "19                       022XX N AUSTIN AVE  2826        OTHER OFFENSE   \n",
       "20                      061XX S WOLCOTT AVE  0890                THEFT   \n",
       "21                      062XX S ROCKWELL ST  031A              ROBBERY   \n",
       "22                          034XX W 27TH ST  1811            NARCOTICS   \n",
       "23                071XX S SOUTH CHICAGO AVE  0560              ASSAULT   \n",
       "24                        073XX S MOZART ST  031A              ROBBERY   \n",
       "25                    040XX W KAMERLING AVE  031A              ROBBERY   \n",
       "26                   047XX N CUMBERLAND AVE  0560              ASSAULT   \n",
       "27                      045XX N KENMORE AVE  1350    CRIMINAL TRESPASS   \n",
       "28                    001XX N FRANCISCO AVE  031A              ROBBERY   \n",
       "29                      070XX S ASHLAND AVE  1562          SEX OFFENSE   \n",
       "...                                     ...   ...                  ...   \n",
       "873997                    036XX W OGDEN AVE  1310      CRIMINAL DAMAGE   \n",
       "873998                     024XX E 105TH ST  0460              BATTERY   \n",
       "873999                   109XX S DOTY AVE E  0860                THEFT   \n",
       "874000                     003XX E 132ND ST  1310      CRIMINAL DAMAGE   \n",
       "874001                      002XX W 91ST ST  1310      CRIMINAL DAMAGE   \n",
       "874002              012XX S LAKE SHORE DR E  0890                THEFT   \n",
       "874003                   046XX S WALLACE ST  0460              BATTERY   \n",
       "874004                  016XX S HARDING AVE  0430              BATTERY   \n",
       "874005                  038XX W MAYPOLE AVE  0920  MOTOR VEHICLE THEFT   \n",
       "874006                  036XX W CHICAGO AVE  0486              BATTERY   \n",
       "874007                   040XX W FOSTER AVE  0860                THEFT   \n",
       "874008                 010XX W MARQUETTE RD  0486              BATTERY   \n",
       "874009                 073XX S CARPENTER ST  1811            NARCOTICS   \n",
       "874010                047XX S PRINCETON AVE  0820                THEFT   \n",
       "874011                022XX N SOUTHPORT AVE  0810                THEFT   \n",
       "874012                  008XX S PLYMOUTH CT  0497              BATTERY   \n",
       "874013                    048XX N AVERS AVE  0530              ASSAULT   \n",
       "874014  062XX S DR MARTIN LUTHER KING JR DR  1120   DECEPTIVE PRACTICE   \n",
       "874015                      001XX E 57TH ST  1320      CRIMINAL DAMAGE   \n",
       "874016                 008XX N MICHIGAN AVE  0860                THEFT   \n",
       "874017                     060XX N BROADWAY  0820                THEFT   \n",
       "874018                    008XX W NORTH AVE  2820        OTHER OFFENSE   \n",
       "874019                 027XX W ROOSEVELT RD  0820                THEFT   \n",
       "874020                  0000X W ILLINOIS ST  0890                THEFT   \n",
       "874021                090XX S PRINCETON AVE  0460              BATTERY   \n",
       "874022                 001XX S MICHIGAN AVE  1330    CRIMINAL TRESPASS   \n",
       "874023                  001XX N LA SALLE ST  0560              ASSAULT   \n",
       "874024                073XX S MAPLEWOOD AVE  1020                ARSON   \n",
       "874025                    048XX W NORTH AVE  2024            NARCOTICS   \n",
       "874026                 052XX W MONTROSE AVE  0560              ASSAULT   \n",
       "\n",
       "                                           Description  \\\n",
       "0                       AGGRAVATED:KNIFE/CUTTING INSTR   \n",
       "1                         POSS: CANNABIS 30GMS OR LESS   \n",
       "2                                         TO RESIDENCE   \n",
       "3                              DOMESTIC BATTERY SIMPLE   \n",
       "4                                               SIMPLE   \n",
       "5                                            OVER $500   \n",
       "6                                     TELEPHONE THREAT   \n",
       "7                                STRONGARM - NO WEAPON   \n",
       "8                                          POSS: CRACK   \n",
       "9                                STRONGARM - NO WEAPON   \n",
       "10                                        TO RESIDENCE   \n",
       "11                                        RETAIL THEFT   \n",
       "12                               ILLEGAL USE CASH CARD   \n",
       "13                      POSS: CANNABIS MORE THAN 30GMS   \n",
       "14                                   CREDIT CARD FRAUD   \n",
       "15                             DOMESTIC BATTERY SIMPLE   \n",
       "16                      POSS: CANNABIS MORE THAN 30GMS   \n",
       "17                                              SIMPLE   \n",
       "18                                              SIMPLE   \n",
       "19                      HARASSMENT BY ELECTRONIC MEANS   \n",
       "20                                       FROM BUILDING   \n",
       "21                                      ARMED: HANDGUN   \n",
       "22                        POSS: CANNABIS 30GMS OR LESS   \n",
       "23                                              SIMPLE   \n",
       "24                                      ARMED: HANDGUN   \n",
       "25                                      ARMED: HANDGUN   \n",
       "26                                              SIMPLE   \n",
       "27                                   TO STATE SUP LAND   \n",
       "28                                      ARMED: HANDGUN   \n",
       "29                           AGG CRIMINAL SEXUAL ABUSE   \n",
       "...                                                ...   \n",
       "873997                                     TO PROPERTY   \n",
       "873998                                          SIMPLE   \n",
       "873999                                    RETAIL THEFT   \n",
       "874000                                     TO PROPERTY   \n",
       "874001                                     TO PROPERTY   \n",
       "874002                                   FROM BUILDING   \n",
       "874003                                          SIMPLE   \n",
       "874004                   AGGRAVATED: OTHER DANG WEAPON   \n",
       "874005                                 ATT: AUTOMOBILE   \n",
       "874006                         DOMESTIC BATTERY SIMPLE   \n",
       "874007                                    RETAIL THEFT   \n",
       "874008                         DOMESTIC BATTERY SIMPLE   \n",
       "874009                    POSS: CANNABIS 30GMS OR LESS   \n",
       "874010                                  $500 AND UNDER   \n",
       "874011                                       OVER $500   \n",
       "874012  AGGRAVATED DOMESTIC BATTERY: OTHER DANG WEAPON   \n",
       "874013                   AGGRAVATED: OTHER DANG WEAPON   \n",
       "874014                                         FORGERY   \n",
       "874015                                      TO VEHICLE   \n",
       "874016                                    RETAIL THEFT   \n",
       "874017                                  $500 AND UNDER   \n",
       "874018                                TELEPHONE THREAT   \n",
       "874019                                  $500 AND UNDER   \n",
       "874020                                   FROM BUILDING   \n",
       "874021                                          SIMPLE   \n",
       "874022                                         TO LAND   \n",
       "874023                                          SIMPLE   \n",
       "874024                                         BY FIRE   \n",
       "874025                             POSS: HEROIN(WHITE)   \n",
       "874026                                          SIMPLE   \n",
       "\n",
       "                 Location Description  Arrest  Domestic  ...  Ward  \\\n",
       "0                           APARTMENT   False      True  ...  35.0   \n",
       "1            SCHOOL, PUBLIC, BUILDING    True     False  ...   6.0   \n",
       "2                           RESIDENCE    True     False  ...   7.0   \n",
       "3                         GAS STATION   False      True  ...  39.0   \n",
       "4                              STREET   False     False  ...  47.0   \n",
       "5                     VACANT LOT/LAND   False     False  ...  21.0   \n",
       "6                           RESIDENCE   False     False  ...  38.0   \n",
       "7                       PARK PROPERTY   False     False  ...   4.0   \n",
       "8                               ALLEY    True     False  ...  42.0   \n",
       "9                  SMALL RETAIL STORE    True     False  ...  42.0   \n",
       "10                          APARTMENT   False     False  ...  44.0   \n",
       "11                 GROCERY FOOD STORE   False     False  ...   9.0   \n",
       "12                          RESIDENCE   False      True  ...   6.0   \n",
       "13                          APARTMENT   False     False  ...  28.0   \n",
       "14                             STREET   False     False  ...  42.0   \n",
       "15                          RESIDENCE   False      True  ...  14.0   \n",
       "16                           SIDEWALK    True     False  ...  44.0   \n",
       "17                             STREET   False     False  ...  24.0   \n",
       "18                          APARTMENT   False     False  ...  28.0   \n",
       "19                          APARTMENT   False     False  ...  37.0   \n",
       "20                              OTHER   False     False  ...  15.0   \n",
       "21                              ALLEY   False     False  ...  15.0   \n",
       "22                           SIDEWALK    True     False  ...  22.0   \n",
       "23           SCHOOL, PUBLIC, BUILDING   False     False  ...   5.0   \n",
       "24      RESIDENTIAL YARD (FRONT/BACK)   False     False  ...  18.0   \n",
       "25                           SIDEWALK   False     False  ...  27.0   \n",
       "26                 GROCERY FOOD STORE   False     False  ...  36.0   \n",
       "27            SCHOOL, PUBLIC, GROUNDS    True     False  ...  46.0   \n",
       "28                           SIDEWALK   False     False  ...   2.0   \n",
       "29                 GROCERY FOOD STORE   False     False  ...  17.0   \n",
       "...                               ...     ...       ...  ...   ...   \n",
       "873997                          OTHER   False     False  ...  24.0   \n",
       "873998                  PARK PROPERTY   False     False  ...  10.0   \n",
       "873999               DEPARTMENT STORE    True     False  ...  10.0   \n",
       "874000                      RESIDENCE   False     False  ...   9.0   \n",
       "874001                      RESIDENCE   False     False  ...  21.0   \n",
       "874002                          OTHER   False     False  ...   2.0   \n",
       "874003                      CTA TRAIN    True     False  ...  11.0   \n",
       "874004                       SIDEWALK   False     False  ...  24.0   \n",
       "874005                         STREET   False     False  ...  28.0   \n",
       "874006                         STREET   False      True  ...  27.0   \n",
       "874007             GROCERY FOOD STORE    True     False  ...  39.0   \n",
       "874008                      RESIDENCE   False     False  ...  17.0   \n",
       "874009                         STREET    True     False  ...  17.0   \n",
       "874010                      RESIDENCE   False      True  ...   3.0   \n",
       "874011                         STREET   False     False  ...  32.0   \n",
       "874012                      RESIDENCE   False     False  ...   2.0   \n",
       "874013        RESIDENCE PORCH/HALLWAY    True      True  ...  39.0   \n",
       "874014                      RESIDENCE   False     False  ...  20.0   \n",
       "874015                         STREET   False     False  ...  20.0   \n",
       "874016               DEPARTMENT STORE   False     False  ...  42.0   \n",
       "874017                       SIDEWALK   False     False  ...  48.0   \n",
       "874018             SMALL RETAIL STORE   False     False  ...  43.0   \n",
       "874019                          OTHER   False     False  ...  28.0   \n",
       "874020                    HOTEL/MOTEL   False     False  ...  42.0   \n",
       "874021                         STREET    True     False  ...  21.0   \n",
       "874022      SCHOOL, PRIVATE, BUILDING   False     False  ...  42.0   \n",
       "874023                          OTHER   False     False  ...  42.0   \n",
       "874024                      RESIDENCE   False     False  ...  18.0   \n",
       "874025                      RESIDENCE    True     False  ...  37.0   \n",
       "874026                          ALLEY   False     False  ...  45.0   \n",
       "\n",
       "        Community Area  FBI Code  X Coordinate Y Coordinate  Year  \\\n",
       "0                 16.0       04A     1152724.0    1924681.0  2015   \n",
       "1                 49.0        18     1178850.0    1841009.0  2012   \n",
       "2                 46.0        26     1197746.0    1853168.0  2016   \n",
       "3                 16.0       08B     1149007.0    1926448.0  2015   \n",
       "4                  4.0       08B     1163385.0    1931915.0  2014   \n",
       "5                 71.0        06     1168378.0    1852049.0  2013   \n",
       "6                 15.0        26     1134577.0    1930912.0  2012   \n",
       "7                 41.0        03     1188290.0    1871467.0  2012   \n",
       "8                  8.0        18     1176064.0    1903603.0  2012   \n",
       "9                 32.0        03     1176905.0    1901744.0  2016   \n",
       "10                 6.0        26     1169798.0    1923448.0  2012   \n",
       "11                49.0        06     1175895.0    1836626.0  2016   \n",
       "12                44.0        11     1182291.0    1851831.0  2016   \n",
       "13                27.0        18     1154023.0    1900782.0  2013   \n",
       "14                32.0        11     1178694.0    1901250.0  2016   \n",
       "15                58.0       08B     1156118.0    1876616.0  2012   \n",
       "16                 6.0        18     1169878.0    1921449.0  2013   \n",
       "17                29.0       08B     1151287.0    1894141.0  2013   \n",
       "18                25.0       08A     1144417.0    1898810.0  2013   \n",
       "19                19.0        26     1136031.0    1914331.0  2016   \n",
       "20                67.0        06     1164741.0    1863948.0  2014   \n",
       "21                66.0        03     1160111.0    1863210.0  2015   \n",
       "22                30.0        18     1153691.0    1885847.0  2013   \n",
       "23                69.0       08A     1183013.0    1857906.0  2016   \n",
       "24                66.0        03     1158648.0    1855760.0  2016   \n",
       "25                23.0        03     1149174.0    1908685.0  2016   \n",
       "26                76.0       08A     1119318.0    1930490.0  2014   \n",
       "27                 3.0        26     1168407.0    1930290.0  2014   \n",
       "28                27.0        03     1157038.0    1900717.0  2012   \n",
       "29                67.0        17     1166897.0    1858031.0  2012   \n",
       "...                ...       ...           ...          ...   ...   \n",
       "873997            29.0        14     1152598.0    1890161.0  2015   \n",
       "873998            51.0       08B     1193897.0    1835873.0  2012   \n",
       "873999            51.0        06     1185667.0    1832643.0  2015   \n",
       "874000            54.0        14     1180835.0    1817919.0  2015   \n",
       "874001            49.0        14     1176266.0    1844607.0  2014   \n",
       "874002            33.0        06           NaN          NaN  2016   \n",
       "874003            61.0       08B     1173070.0    1874317.0  2012   \n",
       "874004            29.0       04B     1150325.0    1891548.0  2013   \n",
       "874005            26.0        07     1150705.0    1900939.0  2012   \n",
       "874006            23.0       08B     1152155.0    1905098.0  2013   \n",
       "874007            13.0        06     1148424.0    1934247.0  2015   \n",
       "874008            68.0       08B     1170645.0    1860392.0  2012   \n",
       "874009            68.0        18     1170585.0    1856103.0  2015   \n",
       "874010            37.0        06     1175090.0    1873443.0  2013   \n",
       "874011             7.0        06     1166620.0    1914905.0  2016   \n",
       "874012            32.0       04B     1176194.0    1896270.0  2013   \n",
       "874013            14.0       04A     1149838.0    1931964.0  2016   \n",
       "874014            40.0        10     1179989.0    1863814.0  2012   \n",
       "874015            40.0        14     1178285.0    1867261.0  2012   \n",
       "874016             8.0        06     1177338.0    1906181.0  2015   \n",
       "874017            77.0        06     1167213.0    1940125.0  2012   \n",
       "874018             8.0        26     1170635.0    1910871.0  2015   \n",
       "874019            29.0        06     1158071.0    1894595.0  2014   \n",
       "874020             8.0        06     1175996.0    1903601.0  2013   \n",
       "874021            49.0       08B     1175940.0    1844713.0  2014   \n",
       "874022            32.0        26     1177321.0    1899793.0  2015   \n",
       "874023            32.0       08A     1175108.0    1901391.0  2014   \n",
       "874024            66.0        09     1160647.0    1855864.0  2016   \n",
       "874025            25.0        18     1143676.0    1910195.0  2013   \n",
       "874026            15.0       08A     1140667.0    1928754.0  2016   \n",
       "\n",
       "                    Updated On   Latitude  Longitude  \\\n",
       "0       08/17/2015 03:03:40 PM  41.949183 -87.714011   \n",
       "1       02/04/2016 06:33:39 AM  41.719023 -87.620529   \n",
       "2       11/24/2016 03:48:31 PM  41.751938 -87.550915   \n",
       "3       08/17/2015 03:03:40 PM  41.954105 -87.727628   \n",
       "4       02/04/2016 06:33:39 AM  41.968816 -87.674618   \n",
       "5       02/04/2016 06:33:39 AM  41.749550 -87.658567   \n",
       "6       02/04/2016 06:33:39 AM  41.966622 -87.780569   \n",
       "7       02/04/2016 06:33:39 AM  41.802383 -87.584983   \n",
       "8       02/04/2016 06:33:39 AM  41.890850 -87.628854   \n",
       "9       03/17/2016 03:50:16 PM  41.885730 -87.625821   \n",
       "10      02/04/2016 06:33:39 AM  41.945444 -87.651286   \n",
       "11      03/07/2016 03:57:43 PM  41.707062 -87.631483   \n",
       "12      10/24/2016 03:58:06 PM  41.748641 -87.607591   \n",
       "13      02/04/2016 06:33:39 AM  41.883577 -87.709874   \n",
       "14      08/10/2016 03:55:25 PM  41.884333 -87.619267   \n",
       "15      02/04/2016 06:33:39 AM  41.817220 -87.702833   \n",
       "16      02/04/2016 06:33:39 AM  41.939957 -87.651050   \n",
       "17      02/04/2016 06:33:39 AM  41.865407 -87.720096   \n",
       "18      02/04/2016 06:33:39 AM  41.878351 -87.745198   \n",
       "19      08/20/2016 03:54:24 PM  41.921097 -87.775620   \n",
       "20      02/04/2016 06:33:39 AM  41.782280 -87.671559   \n",
       "21      09/24/2015 07:50:13 PM  41.780351 -87.688554   \n",
       "22      02/04/2016 06:33:39 AM  41.842600 -87.711491   \n",
       "23      02/29/2016 03:51:18 PM  41.765295 -87.604757   \n",
       "24      11/27/2016 03:47:15 PM  41.759937 -87.694121   \n",
       "25      10/23/2016 03:53:39 PM  41.905359 -87.727476   \n",
       "26      02/04/2016 06:33:39 AM  41.965721 -87.836685   \n",
       "27      02/04/2016 06:33:39 AM  41.964249 -87.656200   \n",
       "28      02/04/2016 06:33:39 AM  41.883338 -87.698805   \n",
       "29      02/04/2016 06:33:39 AM  41.765997 -87.663823   \n",
       "...                        ...        ...        ...   \n",
       "873997  08/17/2015 03:03:40 PM  41.854460 -87.715388   \n",
       "873998  02/04/2016 06:33:39 AM  41.704574 -87.565585   \n",
       "873999  08/17/2015 03:03:40 PM  41.695908 -87.595823   \n",
       "874000  08/31/2015 03:43:09 PM  41.655616 -87.613964   \n",
       "874001  02/04/2016 06:33:39 AM  41.728955 -87.629885   \n",
       "874002  10/04/2016 03:50:48 PM        NaN        NaN   \n",
       "874003  02/04/2016 06:33:39 AM  41.810554 -87.640716   \n",
       "874004  02/04/2016 06:33:39 AM  41.858310 -87.723695   \n",
       "874005  02/04/2016 06:33:39 AM  41.884073 -87.722054   \n",
       "874006  02/04/2016 06:33:39 AM  41.895457 -87.716620   \n",
       "874007  10/20/2015 03:56:48 PM  41.975517 -87.729569   \n",
       "874008  02/04/2016 06:33:39 AM  41.772395 -87.650017   \n",
       "874009  08/17/2015 03:03:40 PM  41.760627 -87.650362   \n",
       "874010  02/04/2016 06:33:39 AM  41.808110 -87.633333   \n",
       "874011  10/21/2016 03:58:01 PM  41.922071 -87.663212   \n",
       "874012  02/04/2016 06:33:39 AM  41.870725 -87.628597   \n",
       "874013  05/23/2016 03:51:11 PM  41.969225 -87.724429   \n",
       "874014  02/04/2016 06:33:39 AM  41.781577 -87.615660   \n",
       "874015  02/04/2016 06:33:39 AM  41.791074 -87.621803   \n",
       "874016  12/25/2015 03:51:45 PM  41.897895 -87.624097   \n",
       "874017  02/04/2016 06:33:39 AM  41.991263 -87.660306   \n",
       "874018  08/31/2015 03:43:09 PM  41.910914 -87.648578   \n",
       "874019  02/04/2016 06:33:39 AM  41.866517 -87.695179   \n",
       "874020  02/04/2016 06:33:39 AM  41.890846 -87.629103   \n",
       "874021  02/04/2016 06:33:39 AM  41.729253 -87.631076   \n",
       "874022  08/17/2015 03:03:40 PM  41.880367 -87.624353   \n",
       "874023  02/04/2016 06:33:39 AM  41.884801 -87.632431   \n",
       "874024  11/10/2016 03:59:03 PM  41.760182 -87.686792   \n",
       "874025  02/04/2016 06:33:39 AM  41.909607 -87.747634   \n",
       "874026  11/09/2016 04:17:18 PM  41.960591 -87.758230   \n",
       "\n",
       "                             Location  \n",
       "0       (41.949183466, -87.714010731)  \n",
       "1        (41.71902307, -87.620528559)  \n",
       "2        (41.75193817, -87.550915052)  \n",
       "3       (41.954105142, -87.727628041)  \n",
       "4       (41.968815819, -87.674618145)  \n",
       "5       (41.749549955, -87.658567035)  \n",
       "6       (41.966622408, -87.780569492)  \n",
       "7       (41.802382851, -87.584982858)  \n",
       "8       (41.890849769, -87.628853572)  \n",
       "9       (41.885729587, -87.625821329)  \n",
       "10      (41.945444363, -87.651285637)  \n",
       "11      (41.707062135, -87.631482564)  \n",
       "12      (41.748641017, -87.607591178)  \n",
       "13      (41.883576711, -87.709874412)  \n",
       "14      (41.884333364, -87.619266937)  \n",
       "15      (41.817220443, -87.702832921)  \n",
       "16      (41.939957278, -87.651050072)  \n",
       "17       (41.865407175, -87.72009552)  \n",
       "18       (41.878351391, -87.74519839)  \n",
       "19       (41.921096539, -87.77561994)  \n",
       "20      (41.782279941, -87.671559063)  \n",
       "21        (41.780351295, -87.6885543)  \n",
       "22      (41.842600012, -87.711490787)  \n",
       "23      (41.765294699, -87.604757012)  \n",
       "24      (41.759937376, -87.694120931)  \n",
       "25       (41.905358663, -87.72747554)  \n",
       "26      (41.965720818, -87.836684841)  \n",
       "27      (41.964249329, -87.656199698)  \n",
       "28      (41.883337705, -87.698804815)  \n",
       "29       (41.765997125, -87.66382344)  \n",
       "...                               ...  \n",
       "873997  (41.854459796, -87.715387915)  \n",
       "873998  (41.704574292, -87.565584886)  \n",
       "873999  (41.695908161, -87.595822806)  \n",
       "874000  (41.655615518, -87.613964419)  \n",
       "874001  (41.728954781, -87.629885173)  \n",
       "874002                            NaN  \n",
       "874003  (41.810553606, -87.640716405)  \n",
       "874004  (41.858310477, -87.723694681)  \n",
       "874005  (41.884073036, -87.722054351)  \n",
       "874006  (41.895457291, -87.716619992)  \n",
       "874007   (41.97551745, -87.729569215)  \n",
       "874008   (41.772395124, -87.65001697)  \n",
       "874009   (41.76062688, -87.650361752)  \n",
       "874010  (41.808110354, -87.633333417)  \n",
       "874011  (41.922070725, -87.663212167)  \n",
       "874012  (41.870724666, -87.628597294)  \n",
       "874013  (41.969225282, -87.724429061)  \n",
       "874014  (41.781576603, -87.615660095)  \n",
       "874015   (41.791074368, -87.62180273)  \n",
       "874016  (41.897895128, -87.624096605)  \n",
       "874017  (41.991262667, -87.660305558)  \n",
       "874018  (41.910914175, -87.648578343)  \n",
       "874019  (41.866517317, -87.695178701)  \n",
       "874020  (41.890845813, -87.629103359)  \n",
       "874021  (41.729252964, -87.631076215)  \n",
       "874022    (41.880366516, -87.6243529)  \n",
       "874023  (41.884801401, -87.632430795)  \n",
       "874024  (41.760181773, -87.686791677)  \n",
       "874025  (41.909607048, -87.747633849)  \n",
       "874026  (41.960590669, -87.758230423)  \n",
       "\n",
       "[874027 rows x 22 columns]"
      ]
     },
     "execution_count": 3,
     "metadata": {},
     "output_type": "execute_result"
    }
   ],
   "source": [
    "data = pd.read_csv('train.csv')\n",
    "data"
   ]
  },
  {
   "cell_type": "markdown",
   "metadata": {
    "pycharm": {
     "name": "#%% md\n"
    }
   },
   "source": [
    "# Data Analysis"
   ]
  },
  {
   "cell_type": "markdown",
   "metadata": {
    "heading_collapsed": true
   },
   "source": [
    "## Basic Stuff\n",
    "A few insights about the size and available features..."
   ]
  },
  {
   "cell_type": "code",
   "execution_count": 4,
   "metadata": {
    "hidden": true,
    "pycharm": {
     "is_executing": false,
     "name": "#%%\n"
    }
   },
   "outputs": [
    {
     "data": {
      "text/plain": [
       "(874027, 22)"
      ]
     },
     "execution_count": 4,
     "metadata": {},
     "output_type": "execute_result"
    }
   ],
   "source": [
    "data.shape"
   ]
  },
  {
   "cell_type": "markdown",
   "metadata": {
    "hidden": true,
    "pycharm": {
     "name": "#%% md\n"
    }
   },
   "source": [
    "8.7 lakhs training examples.. Massive!"
   ]
  },
  {
   "cell_type": "code",
   "execution_count": 5,
   "metadata": {
    "hidden": true,
    "pycharm": {
     "is_executing": false,
     "name": "#%%\n"
    }
   },
   "outputs": [
    {
     "data": {
      "text/plain": [
       "Index(['ID', 'Case Number', 'Date', 'Block', 'IUCR', 'Primary Type',\n",
       "       'Description', 'Location Description', 'Arrest', 'Domestic', 'Beat',\n",
       "       'District', 'Ward', 'Community Area', 'FBI Code', 'X Coordinate',\n",
       "       'Y Coordinate', 'Year', 'Updated On', 'Latitude', 'Longitude',\n",
       "       'Location'],\n",
       "      dtype='object')"
      ]
     },
     "execution_count": 5,
     "metadata": {},
     "output_type": "execute_result"
    }
   ],
   "source": [
    "data.columns"
   ]
  },
  {
   "cell_type": "code",
   "execution_count": 6,
   "metadata": {
    "hidden": true,
    "pycharm": {
     "is_executing": false,
     "name": "#%%\n"
    }
   },
   "outputs": [
    {
     "name": "stdout",
     "output_type": "stream",
     "text": [
      "<class 'pandas.core.frame.DataFrame'>\n",
      "RangeIndex: 874027 entries, 0 to 874026\n",
      "Data columns (total 22 columns):\n",
      "ID                      874027 non-null int64\n",
      "Case Number             874027 non-null object\n",
      "Date                    874027 non-null object\n",
      "Block                   874027 non-null object\n",
      "IUCR                    874027 non-null object\n",
      "Primary Type            874027 non-null object\n",
      "Description             874027 non-null object\n",
      "Location Description    873102 non-null object\n",
      "Arrest                  874027 non-null bool\n",
      "Domestic                874027 non-null bool\n",
      "Beat                    874027 non-null int64\n",
      "District                874026 non-null float64\n",
      "Ward                    874019 non-null float64\n",
      "Community Area          873996 non-null float64\n",
      "FBI Code                874027 non-null object\n",
      "X Coordinate            851772 non-null float64\n",
      "Y Coordinate            851772 non-null float64\n",
      "Year                    874027 non-null int64\n",
      "Updated On              874027 non-null object\n",
      "Latitude                851772 non-null float64\n",
      "Longitude               851772 non-null float64\n",
      "Location                851772 non-null object\n",
      "dtypes: bool(2), float64(7), int64(3), object(10)\n",
      "memory usage: 135.0+ MB\n"
     ]
    }
   ],
   "source": [
    "data.info()"
   ]
  },
  {
   "cell_type": "markdown",
   "metadata": {
    "hidden": true,
    "pycharm": {
     "name": "#%% md\n"
    }
   },
   "source": [
    "Looks like some of the entries are missing. How much though?"
   ]
  },
  {
   "cell_type": "code",
   "execution_count": 12,
   "metadata": {
    "hidden": true,
    "pycharm": {
     "is_executing": false,
     "name": "#%%\n"
    }
   },
   "outputs": [
    {
     "data": {
      "text/plain": [
       "<matplotlib.axes._subplots.AxesSubplot at 0x24a80430a90>"
      ]
     },
     "execution_count": 12,
     "metadata": {},
     "output_type": "execute_result"
    },
    {
     "data": {
      "image/png": "[encoded data removed]",
      "text/plain": [
       "<Figure size 720x504 with 2 Axes>"
      ]
     },
     "metadata": {
      "needs_background": "light"
     },
     "output_type": "display_data"
    }
   ],
   "source": [
    "plt.figure(figsize=(10, 7))\n",
    "sns.heatmap(data.isnull(),\n",
    "            cmap='inferno')"
   ]
  },
  {
   "cell_type": "markdown",
   "metadata": {
    "heading_collapsed": true,
    "pycharm": {
     "name": "#%% md\n"
    }
   },
   "source": [
    "## Deeper analysis of missing data\n",
    "I wonder how Chicago looks like..."
   ]
  },
  {
   "cell_type": "code",
   "execution_count": 13,
   "metadata": {
    "hidden": true,
    "pycharm": {
     "is_executing": false,
     "name": "#%%\n"
    }
   },
   "outputs": [
    {
     "data": {
      "text/plain": [
       "count    851772.000000\n",
       "mean         41.841432\n",
       "std           0.095097\n",
       "min          36.619446\n",
       "25%          41.767848\n",
       "50%          41.857969\n",
       "75%          41.905251\n",
       "max          42.022710\n",
       "Name: Latitude, dtype: float64"
      ]
     },
     "execution_count": 13,
     "metadata": {},
     "output_type": "execute_result"
    }
   ],
   "source": [
    "data['Latitude'].describe()"
   ]
  },
  {
   "cell_type": "code",
   "execution_count": 14,
   "metadata": {
    "hidden": true,
    "pycharm": {
     "is_executing": false,
     "name": "#%%\n"
    }
   },
   "outputs": [
    {
     "data": {
      "text/plain": [
       "count    851772.000000\n",
       "mean        -87.672274\n",
       "std           0.067312\n",
       "min         -91.686566\n",
       "25%         -87.715305\n",
       "50%         -87.666164\n",
       "75%         -87.628116\n",
       "max         -87.524529\n",
       "Name: Longitude, dtype: float64"
      ]
     },
     "execution_count": 14,
     "metadata": {},
     "output_type": "execute_result"
    }
   ],
   "source": [
    "data['Longitude'].describe()"
   ]
  },
  {
   "cell_type": "code",
   "execution_count": 15,
   "metadata": {
    "hidden": true,
    "pycharm": {
     "is_executing": false,
     "name": "#%%\n"
    }
   },
   "outputs": [],
   "source": [
    "center = [data['Latitude'].mean(), data['Longitude'].mean()]"
   ]
  },
  {
   "cell_type": "code",
   "execution_count": 16,
   "metadata": {
    "hidden": true,
    "pycharm": {
     "is_executing": false,
     "name": "#%%\n"
    }
   },
   "outputs": [],
   "source": [
    "m = folium.Map(location=center,\n",
    "               width='100%',\n",
    "               height='100%',\n",
    "               zoom_start=12,         \n",
    "               tiles=\"CartoDB positron \")"
   ]
  },
  {
   "cell_type": "code",
   "execution_count": 17,
   "metadata": {
    "hidden": true,
    "pycharm": {
     "is_executing": false,
     "name": "#%%\n"
    }
   },
   "outputs": [
    {
     "data": {
      "text/html": [
       "<div style=\"width:100%;\"><div style=\"position:relative;width:100%;height:0;padding-bottom:60%;\"><iframe src=\"data:text/html;charset=utf-8;base64,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\" style=\"position:absolute;width:100%;height:100%;left:0;top:0;border:none !important;\" allowfullscreen webkitallowfullscreen mozallowfullscreen></iframe></div></div>"
      ],
      "text/plain": [
       "<folium.folium.Map at 0x24a80401240>"
      ]
     },
     "execution_count": 17,
     "metadata": {},
     "output_type": "execute_result"
    }
   ],
   "source": [
    "m"
   ]
  },
  {
   "cell_type": "markdown",
   "metadata": {
    "hidden": true,
    "pycharm": {
     "name": "#%% md\n"
    }
   },
   "source": [
    "From the given data, seems like Community Area is the largest form of areal classification. It will better help in the \n",
    "understanding of which features are important and correlate well for the neural network we will feed later on."
   ]
  },
  {
   "cell_type": "code",
   "execution_count": 18,
   "metadata": {
    "hidden": true,
    "pycharm": {
     "is_executing": false,
     "name": "#%%\n"
    }
   },
   "outputs": [
    {
     "data": {
      "text/html": [
       "<div style=\"width:100%;\"><div style=\"position:relative;width:100%;height:0;padding-bottom:60%;\"><iframe src=\"data:text/html;charset=utf-8;base64,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\" style=\"position:absolute;width:100%;height:100%;left:0;top:0;border:none !important;\" allowfullscreen webkitallowfullscreen mozallowfullscreen></iframe></div></div>"
      ],
      "text/plain": [
       "<folium.folium.Map at 0x24a80401240>"
      ]
     },
     "execution_count": 18,
     "metadata": {},
     "output_type": "execute_result"
    }
   ],
   "source": [
    "ca = data.groupby('Community Area').first().loc[:, ['Latitude', 'Longitude']]\n",
    "for i in range(len(ca)):\n",
    "    x, y = ca.iloc[i][0], ca.iloc[i][1]\n",
    "    folium.Marker([x, y]).add_to(m)\n",
    "m"
   ]
  },
  {
   "cell_type": "markdown",
   "metadata": {
    "hidden": true,
    "pycharm": {
     "name": "#%%\n"
    }
   },
   "source": [
    "* The Chicago Looks like a vertical strip. \n",
    "* So maybe we will be having these community areas to be correlated with the longitude that we need to predict. \n",
    "* The smallest subdivision of area is what will actually give us the precise location along with a good accuracy. \n",
    "* I feel the blocks are the best. Let's see if they truly are..."
   ]
  },
  {
   "cell_type": "markdown",
   "metadata": {
    "heading_collapsed": true
   },
   "source": [
    "## What are good features?"
   ]
  },
  {
   "cell_type": "markdown",
   "metadata": {
    "hidden": true
   },
   "source": [
    "**My Thoughts** <br>\n",
    "It's better to take just as few features as we can to reduce load and to keep the problem as a true ML problem. Having too many will start to overfit and destroy the purpose of generating the data. \n",
    "The smallest subdivision of area will give use the best estimate of the location as accuracy and precision will be great. \n",
    "\n",
    "\n",
    "Also, having an additional broader feature will help too just in case if smaller features start overlapping and destroy our predictions altogether 😂."
   ]
  },
  {
   "cell_type": "code",
   "execution_count": 19,
   "metadata": {
    "hidden": true,
    "scrolled": true
   },
   "outputs": [
    {
     "name": "stderr",
     "output_type": "stream",
     "text": [
      "C:\\ProgramData\\Anaconda3\\envs\\ml\\lib\\site-packages\\ipykernel_launcher.py:2: SettingWithCopyWarning: \n",
      "A value is trying to be set on a copy of a slice from a DataFrame\n",
      "\n",
      "See the caveats in the documentation: http://pandas.pydata.org/pandas-docs/stable/indexing.html#indexing-view-versus-copy\n",
      "  \n"
     ]
    },
    {
     "data": {
      "text/html": [
       "<div>\n",
       "<style scoped>\n",
       "    .dataframe tbody tr th:only-of-type {\n",
       "        vertical-align: middle;\n",
       "    }\n",
       "\n",
       "    .dataframe tbody tr th {\n",
       "        vertical-align: top;\n",
       "    }\n",
       "\n",
       "    .dataframe thead th {\n",
       "        text-align: right;\n",
       "    }\n",
       "</style>\n",
       "<table border=\"1\" class=\"dataframe\">\n",
       "  <thead>\n",
       "    <tr style=\"text-align: right;\">\n",
       "      <th></th>\n",
       "      <th>Latitude</th>\n",
       "      <th>Longitude</th>\n",
       "    </tr>\n",
       "    <tr>\n",
       "      <th>Block</th>\n",
       "      <th></th>\n",
       "      <th></th>\n",
       "    </tr>\n",
       "  </thead>\n",
       "  <tbody>\n",
       "    <tr>\n",
       "      <th>099XX S CONFIDENTIAL</th>\n",
       "      <td>36.619446</td>\n",
       "      <td>-91.686566</td>\n",
       "    </tr>\n",
       "    <tr>\n",
       "      <th>022XX N KENNEDY EXPY IB</th>\n",
       "      <td>36.619446</td>\n",
       "      <td>-91.686566</td>\n",
       "    </tr>\n",
       "    <tr>\n",
       "      <th>099XX S CONFIDENTIAL ST</th>\n",
       "      <td>36.619446</td>\n",
       "      <td>-91.686566</td>\n",
       "    </tr>\n",
       "    <tr>\n",
       "      <th>035XX W 54TH PL</th>\n",
       "      <td>36.619446</td>\n",
       "      <td>-91.686566</td>\n",
       "    </tr>\n",
       "    <tr>\n",
       "      <th>061XX S PARK SHORE EAST CT</th>\n",
       "      <td>36.619446</td>\n",
       "      <td>-91.686566</td>\n",
       "    </tr>\n",
       "    <tr>\n",
       "      <th>130XX S LANGLEY AVE</th>\n",
       "      <td>36.619446</td>\n",
       "      <td>-91.686566</td>\n",
       "    </tr>\n",
       "    <tr>\n",
       "      <th>063XX W KENNEDY EXPY IB</th>\n",
       "      <td>36.619446</td>\n",
       "      <td>-91.686566</td>\n",
       "    </tr>\n",
       "    <tr>\n",
       "      <th>065XX S CHICAGO SKYWAY EXPY OB</th>\n",
       "      <td>36.619446</td>\n",
       "      <td>-91.686566</td>\n",
       "    </tr>\n",
       "    <tr>\n",
       "      <th>072XX S ADA ST</th>\n",
       "      <td>36.619446</td>\n",
       "      <td>-91.686566</td>\n",
       "    </tr>\n",
       "    <tr>\n",
       "      <th>089XX S AVENUE O</th>\n",
       "      <td>36.619446</td>\n",
       "      <td>-91.686566</td>\n",
       "    </tr>\n",
       "    <tr>\n",
       "      <th>062XX W KENNEDY EXPY IB</th>\n",
       "      <td>36.619446</td>\n",
       "      <td>-91.686566</td>\n",
       "    </tr>\n",
       "    <tr>\n",
       "      <th>002XX E 138TH ST</th>\n",
       "      <td>41.644590</td>\n",
       "      <td>-87.615880</td>\n",
       "    </tr>\n",
       "    <tr>\n",
       "      <th>004XX E 138TH ST</th>\n",
       "      <td>41.644604</td>\n",
       "      <td>-87.610728</td>\n",
       "    </tr>\n",
       "    <tr>\n",
       "      <th>006XX E 138TH ST</th>\n",
       "      <td>41.644606</td>\n",
       "      <td>-87.606301</td>\n",
       "    </tr>\n",
       "    <tr>\n",
       "      <th>005XX E 138TH ST</th>\n",
       "      <td>41.644607</td>\n",
       "      <td>-87.608998</td>\n",
       "    </tr>\n",
       "    <tr>\n",
       "      <th>003XX E 138TH ST</th>\n",
       "      <td>41.644608</td>\n",
       "      <td>-87.613055</td>\n",
       "    </tr>\n",
       "    <tr>\n",
       "      <th>008XX E 138TH ST</th>\n",
       "      <td>41.644612</td>\n",
       "      <td>-87.601570</td>\n",
       "    </tr>\n",
       "    <tr>\n",
       "      <th>007XX E 138TH ST</th>\n",
       "      <td>41.644613</td>\n",
       "      <td>-87.603850</td>\n",
       "    </tr>\n",
       "    <tr>\n",
       "      <th>137XX S LEYDEN AVE</th>\n",
       "      <td>41.645009</td>\n",
       "      <td>-87.614942</td>\n",
       "    </tr>\n",
       "    <tr>\n",
       "      <th>137XX S JEFFERY AVE</th>\n",
       "      <td>41.645076</td>\n",
       "      <td>-87.574483</td>\n",
       "    </tr>\n",
       "    <tr>\n",
       "      <th>137XX S BRAINARD AVE</th>\n",
       "      <td>41.645796</td>\n",
       "      <td>-87.542472</td>\n",
       "    </tr>\n",
       "    <tr>\n",
       "      <th>003XX E 137TH ST</th>\n",
       "      <td>41.645836</td>\n",
       "      <td>-87.614611</td>\n",
       "    </tr>\n",
       "    <tr>\n",
       "      <th>137XX S AVENUE O</th>\n",
       "      <td>41.645919</td>\n",
       "      <td>-87.540067</td>\n",
       "    </tr>\n",
       "    <tr>\n",
       "      <th>137XX S INDIANA AVE</th>\n",
       "      <td>41.646187</td>\n",
       "      <td>-87.617227</td>\n",
       "    </tr>\n",
       "    <tr>\n",
       "      <th>137XX S HOXIE AVE</th>\n",
       "      <td>41.646198</td>\n",
       "      <td>-87.560476</td>\n",
       "    </tr>\n",
       "    <tr>\n",
       "      <th>136XX S INDIANA AVE</th>\n",
       "      <td>41.646892</td>\n",
       "      <td>-87.617230</td>\n",
       "    </tr>\n",
       "    <tr>\n",
       "      <th>002XX E 136TH PL</th>\n",
       "      <td>41.647037</td>\n",
       "      <td>-87.616262</td>\n",
       "    </tr>\n",
       "    <tr>\n",
       "      <th>003XX E 136TH PL</th>\n",
       "      <td>41.647040</td>\n",
       "      <td>-87.614437</td>\n",
       "    </tr>\n",
       "    <tr>\n",
       "      <th>136XX S BUFFALO AVE</th>\n",
       "      <td>41.647225</td>\n",
       "      <td>-87.542802</td>\n",
       "    </tr>\n",
       "    <tr>\n",
       "      <th>136XX S HOXIE AVE</th>\n",
       "      <td>41.647637</td>\n",
       "      <td>-87.560532</td>\n",
       "    </tr>\n",
       "    <tr>\n",
       "      <th>...</th>\n",
       "      <td>...</td>\n",
       "      <td>...</td>\n",
       "    </tr>\n",
       "    <tr>\n",
       "      <th>059XX W BRYN MAWR AVE</th>\n",
       "      <td>NaN</td>\n",
       "      <td>NaN</td>\n",
       "    </tr>\n",
       "    <tr>\n",
       "      <th>059XX W EISENHOWER EXPY IB</th>\n",
       "      <td>NaN</td>\n",
       "      <td>NaN</td>\n",
       "    </tr>\n",
       "    <tr>\n",
       "      <th>062XX N CANFIELD AVE</th>\n",
       "      <td>NaN</td>\n",
       "      <td>NaN</td>\n",
       "    </tr>\n",
       "    <tr>\n",
       "      <th>062XX N LENOX AVE</th>\n",
       "      <td>NaN</td>\n",
       "      <td>NaN</td>\n",
       "    </tr>\n",
       "    <tr>\n",
       "      <th>062XX W BRYN MAWR AVE</th>\n",
       "      <td>NaN</td>\n",
       "      <td>NaN</td>\n",
       "    </tr>\n",
       "    <tr>\n",
       "      <th>063XX W 62ND ST</th>\n",
       "      <td>NaN</td>\n",
       "      <td>NaN</td>\n",
       "    </tr>\n",
       "    <tr>\n",
       "      <th>064XX W KENNEDY EXPY IB</th>\n",
       "      <td>NaN</td>\n",
       "      <td>NaN</td>\n",
       "    </tr>\n",
       "    <tr>\n",
       "      <th>065XX S CICERO AV</th>\n",
       "      <td>NaN</td>\n",
       "      <td>NaN</td>\n",
       "    </tr>\n",
       "    <tr>\n",
       "      <th>065XX W RAVEN ST</th>\n",
       "      <td>NaN</td>\n",
       "      <td>NaN</td>\n",
       "    </tr>\n",
       "    <tr>\n",
       "      <th>067XX N Olmsted Ave</th>\n",
       "      <td>NaN</td>\n",
       "      <td>NaN</td>\n",
       "    </tr>\n",
       "    <tr>\n",
       "      <th>067XX W Diversey Ave</th>\n",
       "      <td>NaN</td>\n",
       "      <td>NaN</td>\n",
       "    </tr>\n",
       "    <tr>\n",
       "      <th>071XX N FRANCISCO AVE</th>\n",
       "      <td>NaN</td>\n",
       "      <td>NaN</td>\n",
       "    </tr>\n",
       "    <tr>\n",
       "      <th>071XX W WAVELAND AVE</th>\n",
       "      <td>NaN</td>\n",
       "      <td>NaN</td>\n",
       "    </tr>\n",
       "    <tr>\n",
       "      <th>074XX S KOSTNER AVE</th>\n",
       "      <td>NaN</td>\n",
       "      <td>NaN</td>\n",
       "    </tr>\n",
       "    <tr>\n",
       "      <th>074XX W 60TH PL</th>\n",
       "      <td>NaN</td>\n",
       "      <td>NaN</td>\n",
       "    </tr>\n",
       "    <tr>\n",
       "      <th>075XX W ISHAM AVE</th>\n",
       "      <td>NaN</td>\n",
       "      <td>NaN</td>\n",
       "    </tr>\n",
       "    <tr>\n",
       "      <th>076XX W KENNEDY EXPY IB</th>\n",
       "      <td>NaN</td>\n",
       "      <td>NaN</td>\n",
       "    </tr>\n",
       "    <tr>\n",
       "      <th>081XX S Kilpatrick Ave</th>\n",
       "      <td>NaN</td>\n",
       "      <td>NaN</td>\n",
       "    </tr>\n",
       "    <tr>\n",
       "      <th>082XX W SCHOOL ST</th>\n",
       "      <td>NaN</td>\n",
       "      <td>NaN</td>\n",
       "    </tr>\n",
       "    <tr>\n",
       "      <th>084XX W FOREST PRESERVE AVE</th>\n",
       "      <td>NaN</td>\n",
       "      <td>NaN</td>\n",
       "    </tr>\n",
       "    <tr>\n",
       "      <th>089XX  FOREST VIEW</th>\n",
       "      <td>NaN</td>\n",
       "      <td>NaN</td>\n",
       "    </tr>\n",
       "    <tr>\n",
       "      <th>094XX S HARPER AVE</th>\n",
       "      <td>NaN</td>\n",
       "      <td>NaN</td>\n",
       "    </tr>\n",
       "    <tr>\n",
       "      <th>095XX S AVENUE O</th>\n",
       "      <td>NaN</td>\n",
       "      <td>NaN</td>\n",
       "    </tr>\n",
       "    <tr>\n",
       "      <th>098XX S MORGAN ST</th>\n",
       "      <td>NaN</td>\n",
       "      <td>NaN</td>\n",
       "    </tr>\n",
       "    <tr>\n",
       "      <th>100XX W KENNEDY EXPY IB</th>\n",
       "      <td>NaN</td>\n",
       "      <td>NaN</td>\n",
       "    </tr>\n",
       "    <tr>\n",
       "      <th>101XX W KENNEDY EXPY IB</th>\n",
       "      <td>NaN</td>\n",
       "      <td>NaN</td>\n",
       "    </tr>\n",
       "    <tr>\n",
       "      <th>115XX S wallace st</th>\n",
       "      <td>NaN</td>\n",
       "      <td>NaN</td>\n",
       "    </tr>\n",
       "    <tr>\n",
       "      <th>125XX S PARNELL AVE</th>\n",
       "      <td>NaN</td>\n",
       "      <td>NaN</td>\n",
       "    </tr>\n",
       "    <tr>\n",
       "      <th>127XX S DOTY AVE W</th>\n",
       "      <td>NaN</td>\n",
       "      <td>NaN</td>\n",
       "    </tr>\n",
       "    <tr>\n",
       "      <th>134XX S MARYLAND AVE</th>\n",
       "      <td>NaN</td>\n",
       "      <td>NaN</td>\n",
       "    </tr>\n",
       "  </tbody>\n",
       "</table>\n",
       "<p>31618 rows × 2 columns</p>\n",
       "</div>"
      ],
      "text/plain": [
       "                                 Latitude  Longitude\n",
       "Block                                               \n",
       "099XX S CONFIDENTIAL            36.619446 -91.686566\n",
       "022XX N KENNEDY EXPY IB         36.619446 -91.686566\n",
       "099XX S CONFIDENTIAL ST         36.619446 -91.686566\n",
       "035XX W 54TH PL                 36.619446 -91.686566\n",
       "061XX S PARK SHORE EAST CT      36.619446 -91.686566\n",
       "130XX S LANGLEY AVE             36.619446 -91.686566\n",
       "063XX W KENNEDY EXPY IB         36.619446 -91.686566\n",
       "065XX S CHICAGO SKYWAY EXPY OB  36.619446 -91.686566\n",
       "072XX S ADA ST                  36.619446 -91.686566\n",
       "089XX S AVENUE O                36.619446 -91.686566\n",
       "062XX W KENNEDY EXPY IB         36.619446 -91.686566\n",
       "002XX E 138TH ST                41.644590 -87.615880\n",
       "004XX E 138TH ST                41.644604 -87.610728\n",
       "006XX E 138TH ST                41.644606 -87.606301\n",
       "005XX E 138TH ST                41.644607 -87.608998\n",
       "003XX E 138TH ST                41.644608 -87.613055\n",
       "008XX E 138TH ST                41.644612 -87.601570\n",
       "007XX E 138TH ST                41.644613 -87.603850\n",
       "137XX S LEYDEN AVE              41.645009 -87.614942\n",
       "137XX S JEFFERY AVE             41.645076 -87.574483\n",
       "137XX S BRAINARD AVE            41.645796 -87.542472\n",
       "003XX E 137TH ST                41.645836 -87.614611\n",
       "137XX S AVENUE O                41.645919 -87.540067\n",
       "137XX S INDIANA AVE             41.646187 -87.617227\n",
       "137XX S HOXIE AVE               41.646198 -87.560476\n",
       "136XX S INDIANA AVE             41.646892 -87.617230\n",
       "002XX E 136TH PL                41.647037 -87.616262\n",
       "003XX E 136TH PL                41.647040 -87.614437\n",
       "136XX S BUFFALO AVE             41.647225 -87.542802\n",
       "136XX S HOXIE AVE               41.647637 -87.560532\n",
       "...                                   ...        ...\n",
       "059XX W BRYN MAWR AVE                 NaN        NaN\n",
       "059XX W EISENHOWER EXPY IB            NaN        NaN\n",
       "062XX N CANFIELD AVE                  NaN        NaN\n",
       "062XX N LENOX AVE                     NaN        NaN\n",
       "062XX W BRYN MAWR AVE                 NaN        NaN\n",
       "063XX W 62ND ST                       NaN        NaN\n",
       "064XX W KENNEDY EXPY IB               NaN        NaN\n",
       "065XX S CICERO AV                     NaN        NaN\n",
       "065XX W RAVEN ST                      NaN        NaN\n",
       "067XX N Olmsted Ave                   NaN        NaN\n",
       "067XX W Diversey Ave                  NaN        NaN\n",
       "071XX N FRANCISCO AVE                 NaN        NaN\n",
       "071XX W WAVELAND AVE                  NaN        NaN\n",
       "074XX S KOSTNER AVE                   NaN        NaN\n",
       "074XX W 60TH PL                       NaN        NaN\n",
       "075XX W ISHAM AVE                     NaN        NaN\n",
       "076XX W KENNEDY EXPY IB               NaN        NaN\n",
       "081XX S Kilpatrick Ave                NaN        NaN\n",
       "082XX W SCHOOL ST                     NaN        NaN\n",
       "084XX W FOREST PRESERVE AVE           NaN        NaN\n",
       "089XX  FOREST VIEW                    NaN        NaN\n",
       "094XX S HARPER AVE                    NaN        NaN\n",
       "095XX S AVENUE O                      NaN        NaN\n",
       "098XX S MORGAN ST                     NaN        NaN\n",
       "100XX W KENNEDY EXPY IB               NaN        NaN\n",
       "101XX W KENNEDY EXPY IB               NaN        NaN\n",
       "115XX S wallace st                    NaN        NaN\n",
       "125XX S PARNELL AVE                   NaN        NaN\n",
       "127XX S DOTY AVE W                    NaN        NaN\n",
       "134XX S MARYLAND AVE                  NaN        NaN\n",
       "\n",
       "[31618 rows x 2 columns]"
      ]
     },
     "execution_count": 19,
     "metadata": {},
     "output_type": "execute_result"
    }
   ],
   "source": [
    "block = data[['Block', 'Latitude', 'Longitude']]\n",
    "block.sort_values('Block', axis=0, ascending=True, inplace=True, kind='quicksort', na_position='last')\n",
    "block.groupby('Block').first().sort_values('Latitude')"
   ]
  },
  {
   "cell_type": "markdown",
   "metadata": {
    "hidden": true
   },
   "source": [
    "---\n",
    "* There are about 31.6K blocks which are noted in Chicago. These will therefore be of good value to be features as the amount of precision that I see from them is pretty good.\n",
    "\n",
    "The beat too seem to be of good value as a large number of beats are present. Let's see how they compare with our blocks...\n",
    "\n",
    "---"
   ]
  },
  {
   "cell_type": "code",
   "execution_count": 20,
   "metadata": {
    "hidden": true,
    "scrolled": true
   },
   "outputs": [
    {
     "name": "stderr",
     "output_type": "stream",
     "text": [
      "C:\\ProgramData\\Anaconda3\\envs\\ml\\lib\\site-packages\\ipykernel_launcher.py:2: SettingWithCopyWarning: \n",
      "A value is trying to be set on a copy of a slice from a DataFrame\n",
      "\n",
      "See the caveats in the documentation: http://pandas.pydata.org/pandas-docs/stable/indexing.html#indexing-view-versus-copy\n",
      "  \n"
     ]
    },
    {
     "data": {
      "text/html": [
       "<div>\n",
       "<style scoped>\n",
       "    .dataframe tbody tr th:only-of-type {\n",
       "        vertical-align: middle;\n",
       "    }\n",
       "\n",
       "    .dataframe tbody tr th {\n",
       "        vertical-align: top;\n",
       "    }\n",
       "\n",
       "    .dataframe thead th {\n",
       "        text-align: right;\n",
       "    }\n",
       "</style>\n",
       "<table border=\"1\" class=\"dataframe\">\n",
       "  <thead>\n",
       "    <tr style=\"text-align: right;\">\n",
       "      <th></th>\n",
       "      <th>Latitude</th>\n",
       "      <th>Longitude</th>\n",
       "    </tr>\n",
       "    <tr>\n",
       "      <th>Beat</th>\n",
       "      <th></th>\n",
       "      <th></th>\n",
       "    </tr>\n",
       "  </thead>\n",
       "  <tbody>\n",
       "    <tr>\n",
       "      <th>533</th>\n",
       "      <td>41.657845</td>\n",
       "      <td>-87.597608</td>\n",
       "    </tr>\n",
       "    <tr>\n",
       "      <th>532</th>\n",
       "      <td>41.665428</td>\n",
       "      <td>-87.621215</td>\n",
       "    </tr>\n",
       "    <tr>\n",
       "      <th>523</th>\n",
       "      <td>41.668302</td>\n",
       "      <td>-87.637979</td>\n",
       "    </tr>\n",
       "    <tr>\n",
       "      <th>522</th>\n",
       "      <td>41.677155</td>\n",
       "      <td>-87.626269</td>\n",
       "    </tr>\n",
       "    <tr>\n",
       "      <th>524</th>\n",
       "      <td>41.681524</td>\n",
       "      <td>-87.635227</td>\n",
       "    </tr>\n",
       "    <tr>\n",
       "      <th>2212</th>\n",
       "      <td>41.685703</td>\n",
       "      <td>-87.678876</td>\n",
       "    </tr>\n",
       "    <tr>\n",
       "      <th>2234</th>\n",
       "      <td>41.686365</td>\n",
       "      <td>-87.650708</td>\n",
       "    </tr>\n",
       "    <tr>\n",
       "      <th>531</th>\n",
       "      <td>41.688347</td>\n",
       "      <td>-87.608324</td>\n",
       "    </tr>\n",
       "    <tr>\n",
       "      <th>433</th>\n",
       "      <td>41.691410</td>\n",
       "      <td>-87.541317</td>\n",
       "    </tr>\n",
       "    <tr>\n",
       "      <th>513</th>\n",
       "      <td>41.697129</td>\n",
       "      <td>-87.624179</td>\n",
       "    </tr>\n",
       "    <tr>\n",
       "      <th>2211</th>\n",
       "      <td>41.699147</td>\n",
       "      <td>-87.720660</td>\n",
       "    </tr>\n",
       "    <tr>\n",
       "      <th>434</th>\n",
       "      <td>41.700475</td>\n",
       "      <td>-87.563993</td>\n",
       "    </tr>\n",
       "    <tr>\n",
       "      <th>2233</th>\n",
       "      <td>41.704567</td>\n",
       "      <td>-87.635512</td>\n",
       "    </tr>\n",
       "    <tr>\n",
       "      <th>512</th>\n",
       "      <td>41.706522</td>\n",
       "      <td>-87.605926</td>\n",
       "    </tr>\n",
       "    <tr>\n",
       "      <th>511</th>\n",
       "      <td>41.708813</td>\n",
       "      <td>-87.619957</td>\n",
       "    </tr>\n",
       "    <tr>\n",
       "      <th>432</th>\n",
       "      <td>41.711256</td>\n",
       "      <td>-87.535279</td>\n",
       "    </tr>\n",
       "    <tr>\n",
       "      <th>2232</th>\n",
       "      <td>41.711774</td>\n",
       "      <td>-87.644173</td>\n",
       "    </tr>\n",
       "    <tr>\n",
       "      <th>2213</th>\n",
       "      <td>41.711921</td>\n",
       "      <td>-87.676273</td>\n",
       "    </tr>\n",
       "    <tr>\n",
       "      <th>2223</th>\n",
       "      <td>41.718452</td>\n",
       "      <td>-87.650391</td>\n",
       "    </tr>\n",
       "    <tr>\n",
       "      <th>431</th>\n",
       "      <td>41.720290</td>\n",
       "      <td>-87.564259</td>\n",
       "    </tr>\n",
       "    <tr>\n",
       "      <th>634</th>\n",
       "      <td>41.722361</td>\n",
       "      <td>-87.625067</td>\n",
       "    </tr>\n",
       "    <tr>\n",
       "      <th>2221</th>\n",
       "      <td>41.725730</td>\n",
       "      <td>-87.676147</td>\n",
       "    </tr>\n",
       "    <tr>\n",
       "      <th>424</th>\n",
       "      <td>41.728319</td>\n",
       "      <td>-87.545091</td>\n",
       "    </tr>\n",
       "    <tr>\n",
       "      <th>413</th>\n",
       "      <td>41.728705</td>\n",
       "      <td>-87.596151</td>\n",
       "    </tr>\n",
       "    <tr>\n",
       "      <th>633</th>\n",
       "      <td>41.729331</td>\n",
       "      <td>-87.606120</td>\n",
       "    </tr>\n",
       "    <tr>\n",
       "      <th>2222</th>\n",
       "      <td>41.735962</td>\n",
       "      <td>-87.651451</td>\n",
       "    </tr>\n",
       "    <tr>\n",
       "      <th>834</th>\n",
       "      <td>41.735978</td>\n",
       "      <td>-87.725113</td>\n",
       "    </tr>\n",
       "    <tr>\n",
       "      <th>613</th>\n",
       "      <td>41.735980</td>\n",
       "      <td>-87.650238</td>\n",
       "    </tr>\n",
       "    <tr>\n",
       "      <th>622</th>\n",
       "      <td>41.736148</td>\n",
       "      <td>-87.629070</td>\n",
       "    </tr>\n",
       "    <tr>\n",
       "      <th>835</th>\n",
       "      <td>41.740692</td>\n",
       "      <td>-87.700698</td>\n",
       "    </tr>\n",
       "    <tr>\n",
       "      <th>...</th>\n",
       "      <td>...</td>\n",
       "      <td>...</td>\n",
       "    </tr>\n",
       "    <tr>\n",
       "      <th>2024</th>\n",
       "      <td>41.970855</td>\n",
       "      <td>-87.651235</td>\n",
       "    </tr>\n",
       "    <tr>\n",
       "      <th>1614</th>\n",
       "      <td>41.970936</td>\n",
       "      <td>-87.839513</td>\n",
       "    </tr>\n",
       "    <tr>\n",
       "      <th>2033</th>\n",
       "      <td>41.972617</td>\n",
       "      <td>-87.663374</td>\n",
       "    </tr>\n",
       "    <tr>\n",
       "      <th>1713</th>\n",
       "      <td>41.973168</td>\n",
       "      <td>-87.713495</td>\n",
       "    </tr>\n",
       "    <tr>\n",
       "      <th>2031</th>\n",
       "      <td>41.974008</td>\n",
       "      <td>-87.685229</td>\n",
       "    </tr>\n",
       "    <tr>\n",
       "      <th>1613</th>\n",
       "      <td>41.974474</td>\n",
       "      <td>-87.809826</td>\n",
       "    </tr>\n",
       "    <tr>\n",
       "      <th>1655</th>\n",
       "      <td>41.974862</td>\n",
       "      <td>-87.890372</td>\n",
       "    </tr>\n",
       "    <tr>\n",
       "      <th>1652</th>\n",
       "      <td>41.976421</td>\n",
       "      <td>-87.904976</td>\n",
       "    </tr>\n",
       "    <tr>\n",
       "      <th>1653</th>\n",
       "      <td>41.976800</td>\n",
       "      <td>-87.900520</td>\n",
       "    </tr>\n",
       "    <tr>\n",
       "      <th>2023</th>\n",
       "      <td>41.977021</td>\n",
       "      <td>-87.659886</td>\n",
       "    </tr>\n",
       "    <tr>\n",
       "      <th>1651</th>\n",
       "      <td>41.979006</td>\n",
       "      <td>-87.906463</td>\n",
       "    </tr>\n",
       "    <tr>\n",
       "      <th>1621</th>\n",
       "      <td>41.980016</td>\n",
       "      <td>-87.749295</td>\n",
       "    </tr>\n",
       "    <tr>\n",
       "      <th>2013</th>\n",
       "      <td>41.980778</td>\n",
       "      <td>-87.667021</td>\n",
       "    </tr>\n",
       "    <tr>\n",
       "      <th>1612</th>\n",
       "      <td>41.982879</td>\n",
       "      <td>-87.791441</td>\n",
       "    </tr>\n",
       "    <tr>\n",
       "      <th>1712</th>\n",
       "      <td>41.983067</td>\n",
       "      <td>-87.709515</td>\n",
       "    </tr>\n",
       "    <tr>\n",
       "      <th>2011</th>\n",
       "      <td>41.983167</td>\n",
       "      <td>-87.689984</td>\n",
       "    </tr>\n",
       "    <tr>\n",
       "      <th>2022</th>\n",
       "      <td>41.985583</td>\n",
       "      <td>-87.654381</td>\n",
       "    </tr>\n",
       "    <tr>\n",
       "      <th>2012</th>\n",
       "      <td>41.987273</td>\n",
       "      <td>-87.674615</td>\n",
       "    </tr>\n",
       "    <tr>\n",
       "      <th>1711</th>\n",
       "      <td>41.992281</td>\n",
       "      <td>-87.710448</td>\n",
       "    </tr>\n",
       "    <tr>\n",
       "      <th>2413</th>\n",
       "      <td>41.996660</td>\n",
       "      <td>-87.694730</td>\n",
       "    </tr>\n",
       "    <tr>\n",
       "      <th>2433</th>\n",
       "      <td>41.998099</td>\n",
       "      <td>-87.668831</td>\n",
       "    </tr>\n",
       "    <tr>\n",
       "      <th>1654</th>\n",
       "      <td>41.998274</td>\n",
       "      <td>-87.889893</td>\n",
       "    </tr>\n",
       "    <tr>\n",
       "      <th>2412</th>\n",
       "      <td>41.998367</td>\n",
       "      <td>-87.680152</td>\n",
       "    </tr>\n",
       "    <tr>\n",
       "      <th>1611</th>\n",
       "      <td>41.999984</td>\n",
       "      <td>-87.799728</td>\n",
       "    </tr>\n",
       "    <tr>\n",
       "      <th>2432</th>\n",
       "      <td>42.003495</td>\n",
       "      <td>-87.664272</td>\n",
       "    </tr>\n",
       "    <tr>\n",
       "      <th>2411</th>\n",
       "      <td>42.004908</td>\n",
       "      <td>-87.696568</td>\n",
       "    </tr>\n",
       "    <tr>\n",
       "      <th>2424</th>\n",
       "      <td>42.006546</td>\n",
       "      <td>-87.674207</td>\n",
       "    </tr>\n",
       "    <tr>\n",
       "      <th>2431</th>\n",
       "      <td>42.006706</td>\n",
       "      <td>-87.665224</td>\n",
       "    </tr>\n",
       "    <tr>\n",
       "      <th>2423</th>\n",
       "      <td>42.009076</td>\n",
       "      <td>-87.668492</td>\n",
       "    </tr>\n",
       "    <tr>\n",
       "      <th>2422</th>\n",
       "      <td>42.022536</td>\n",
       "      <td>-87.673630</td>\n",
       "    </tr>\n",
       "  </tbody>\n",
       "</table>\n",
       "<p>302 rows × 2 columns</p>\n",
       "</div>"
      ],
      "text/plain": [
       "       Latitude  Longitude\n",
       "Beat                      \n",
       "533   41.657845 -87.597608\n",
       "532   41.665428 -87.621215\n",
       "523   41.668302 -87.637979\n",
       "522   41.677155 -87.626269\n",
       "524   41.681524 -87.635227\n",
       "2212  41.685703 -87.678876\n",
       "2234  41.686365 -87.650708\n",
       "531   41.688347 -87.608324\n",
       "433   41.691410 -87.541317\n",
       "513   41.697129 -87.624179\n",
       "2211  41.699147 -87.720660\n",
       "434   41.700475 -87.563993\n",
       "2233  41.704567 -87.635512\n",
       "512   41.706522 -87.605926\n",
       "511   41.708813 -87.619957\n",
       "432   41.711256 -87.535279\n",
       "2232  41.711774 -87.644173\n",
       "2213  41.711921 -87.676273\n",
       "2223  41.718452 -87.650391\n",
       "431   41.720290 -87.564259\n",
       "634   41.722361 -87.625067\n",
       "2221  41.725730 -87.676147\n",
       "424   41.728319 -87.545091\n",
       "413   41.728705 -87.596151\n",
       "633   41.729331 -87.606120\n",
       "2222  41.735962 -87.651451\n",
       "834   41.735978 -87.725113\n",
       "613   41.735980 -87.650238\n",
       "622   41.736148 -87.629070\n",
       "835   41.740692 -87.700698\n",
       "...         ...        ...\n",
       "2024  41.970855 -87.651235\n",
       "1614  41.970936 -87.839513\n",
       "2033  41.972617 -87.663374\n",
       "1713  41.973168 -87.713495\n",
       "2031  41.974008 -87.685229\n",
       "1613  41.974474 -87.809826\n",
       "1655  41.974862 -87.890372\n",
       "1652  41.976421 -87.904976\n",
       "1653  41.976800 -87.900520\n",
       "2023  41.977021 -87.659886\n",
       "1651  41.979006 -87.906463\n",
       "1621  41.980016 -87.749295\n",
       "2013  41.980778 -87.667021\n",
       "1612  41.982879 -87.791441\n",
       "1712  41.983067 -87.709515\n",
       "2011  41.983167 -87.689984\n",
       "2022  41.985583 -87.654381\n",
       "2012  41.987273 -87.674615\n",
       "1711  41.992281 -87.710448\n",
       "2413  41.996660 -87.694730\n",
       "2433  41.998099 -87.668831\n",
       "1654  41.998274 -87.889893\n",
       "2412  41.998367 -87.680152\n",
       "1611  41.999984 -87.799728\n",
       "2432  42.003495 -87.664272\n",
       "2411  42.004908 -87.696568\n",
       "2424  42.006546 -87.674207\n",
       "2431  42.006706 -87.665224\n",
       "2423  42.009076 -87.668492\n",
       "2422  42.022536 -87.673630\n",
       "\n",
       "[302 rows x 2 columns]"
      ]
     },
     "execution_count": 20,
     "metadata": {},
     "output_type": "execute_result"
    }
   ],
   "source": [
    "beat = data[['Beat', 'Latitude', 'Longitude']]\n",
    "beat.sort_values('Beat', axis=0, ascending=True, inplace=True, kind='quicksort', na_position='last')\n",
    "beat.groupby('Beat').first().sort_values('Latitude')"
   ]
  },
  {
   "cell_type": "markdown",
   "metadata": {
    "hidden": true
   },
   "source": [
    "---\n",
    "The beats are good too but still they are inferior to the blocks as of now. A few more insights are required if you ask me...\n",
    "\n",
    "---"
   ]
  },
  {
   "cell_type": "code",
   "execution_count": 27,
   "metadata": {
    "hidden": true
   },
   "outputs": [
    {
     "name": "stdout",
     "output_type": "stream",
     "text": [
      "31618 Number of blocks are present\n",
      "31498 Number of blocks with known location\n"
     ]
    },
    {
     "name": "stderr",
     "output_type": "stream",
     "text": [
      "C:\\ProgramData\\Anaconda3\\envs\\ml\\lib\\site-packages\\ipykernel_launcher.py:3: SettingWithCopyWarning: \n",
      "A value is trying to be set on a copy of a slice from a DataFrame\n",
      "\n",
      "See the caveats in the documentation: http://pandas.pydata.org/pandas-docs/stable/indexing.html#indexing-view-versus-copy\n",
      "  This is separate from the ipykernel package so we can avoid doing imports until\n"
     ]
    }
   ],
   "source": [
    "block_test = data[['Block', 'Latitude', 'Longitude']]\n",
    "print(f\"{len(block_test['Block'].unique())} Number of blocks are present\")\n",
    "block_test.dropna(inplace=True)\n",
    "print(f\"{len(block_test['Block'].unique())} Number of blocks with known location\")"
   ]
  },
  {
   "cell_type": "code",
   "execution_count": 30,
   "metadata": {
    "hidden": true
   },
   "outputs": [
    {
     "name": "stdout",
     "output_type": "stream",
     "text": [
      "302 Number of beats are present\n",
      "302 Number of beats with known location\n"
     ]
    },
    {
     "name": "stderr",
     "output_type": "stream",
     "text": [
      "C:\\ProgramData\\Anaconda3\\envs\\ml\\lib\\site-packages\\ipykernel_launcher.py:3: SettingWithCopyWarning: \n",
      "A value is trying to be set on a copy of a slice from a DataFrame\n",
      "\n",
      "See the caveats in the documentation: http://pandas.pydata.org/pandas-docs/stable/indexing.html#indexing-view-versus-copy\n",
      "  This is separate from the ipykernel package so we can avoid doing imports until\n"
     ]
    }
   ],
   "source": [
    "beat_test = data[['Beat', 'Latitude', 'Longitude']]\n",
    "print(f\"{len(beat_test['Beat'].unique())} Number of beats are present\")\n",
    "beat_test.dropna(inplace=True)\n",
    "print(f\"{len(beat_test['Beat'].unique())} Number of beats with known location\")"
   ]
  },
  {
   "cell_type": "markdown",
   "metadata": {
    "hidden": true
   },
   "source": [
    "#### Let's Shift our attention\n",
    "We will revisit the smaller features in some time. A correlation plot of the given data will enhance the image of our understanding"
   ]
  },
  {
   "cell_type": "code",
   "execution_count": 31,
   "metadata": {
    "hidden": true
   },
   "outputs": [
    {
     "data": {
      "image/png": "[encoded data removed]",
      "text/plain": [
       "<Figure size 432x288 with 2 Axes>"
      ]
     },
     "metadata": {
      "needs_background": "light"
     },
     "output_type": "display_data"
    }
   ],
   "source": [
    "useful = data[['Block', 'IUCR', 'Beat', 'District', 'Ward', 'Community Area', 'Latitude', 'Longitude', 'Location']]\n",
    "corr = useful.corr()\n",
    "ax = sns.heatmap(\n",
    "    corr, \n",
    "    vmin=-1, vmax=1, center=0,\n",
    "    cmap=sns.diverging_palette(20, 220, n=200),\n",
    "    square=True\n",
    ")\n",
    "ax.set_xticklabels(\n",
    "    ax.get_xticklabels(),\n",
    "    rotation=45,\n",
    "    horizontalalignment='right'\n",
    ");"
   ]
  },
  {
   "cell_type": "markdown",
   "metadata": {
    "hidden": true
   },
   "source": [
    "---\n",
    "The latitudes seem to perform well with any of the features although the longitudes seems to be partial only to the community area as I had thought before.. **So our decision of using the community area is final.** And the beats too surprisingly don't seem to perform as good as I thought 💭💭\n",
    "\n",
    "---"
   ]
  },
  {
   "cell_type": "code",
   "execution_count": 32,
   "metadata": {
    "hidden": true
   },
   "outputs": [
    {
     "data": {
      "text/plain": [
       "ID                          0\n",
       "Case Number                 0\n",
       "Date                        0\n",
       "Block                       0\n",
       "IUCR                        0\n",
       "Primary Type                0\n",
       "Description                 0\n",
       "Location Description      925\n",
       "Arrest                      0\n",
       "Domestic                    0\n",
       "Beat                        0\n",
       "District                    1\n",
       "Ward                        8\n",
       "Community Area             31\n",
       "FBI Code                    0\n",
       "X Coordinate            22255\n",
       "Y Coordinate            22255\n",
       "Year                        0\n",
       "Updated On                  0\n",
       "Latitude                22255\n",
       "Longitude               22255\n",
       "Location                22255\n",
       "dtype: int64"
      ]
     },
     "execution_count": 32,
     "metadata": {},
     "output_type": "execute_result"
    }
   ],
   "source": [
    "data.isna().sum()"
   ]
  },
  {
   "cell_type": "markdown",
   "metadata": {
    "hidden": true
   },
   "source": [
    "---\n",
    "About 22K of data seems to be missing and from above observations, the **Block and and the Community Area** will be selected to be our features..."
   ]
  },
  {
   "cell_type": "markdown",
   "metadata": {
    "heading_collapsed": true
   },
   "source": [
    "# Preprocessing"
   ]
  },
  {
   "cell_type": "markdown",
   "metadata": {
    "heading_collapsed": true,
    "hidden": true
   },
   "source": [
    "## Organising\n",
    "* The Blocks will have to be converted to integers as neural networks cannot take strings as inputs... We will map our blocks to specific integers.\n",
    "* Also, we will remove the unnecessary columns"
   ]
  },
  {
   "cell_type": "code",
   "execution_count": 33,
   "metadata": {
    "hidden": true
   },
   "outputs": [],
   "source": [
    "blocks_list = data['Block'].unique().tolist()"
   ]
  },
  {
   "cell_type": "code",
   "execution_count": 35,
   "metadata": {
    "hidden": true
   },
   "outputs": [],
   "source": [
    "def block_to_int(name):\n",
    "    try:\n",
    "        i = blocks_list.index(name)\n",
    "    except ValueError:\n",
    "        blocks_list.append(name)\n",
    "        i = blocks_list.index(name)\n",
    "    return i"
   ]
  },
  {
   "cell_type": "code",
   "execution_count": 39,
   "metadata": {
    "hidden": true
   },
   "outputs": [],
   "source": [
    "from IPython.display import clear_output\n",
    "def preprocess(train):\n",
    "    train.drop(columns=['ID', 'Case Number', 'Date', 'IUCR', 'Primary Type',\n",
    "                        'Description', 'Location Description', 'Arrest', \n",
    "                        'Domestic', 'Beat', 'District', 'Ward', 'FBI Code', \n",
    "                        'X Coordinate', 'Y Coordinate', 'Year', 'Updated On',\n",
    "                        'Location'],\n",
    "               inplace=True,\n",
    "               errors='ignore')\n",
    "    train.dropna(axis=0, how='any', thresh=None, inplace=True)\n",
    "    for i, row in train.iterrows():\n",
    "        if isinstance(row['Block'], str):\n",
    "            train.set_value(i, 'Block', block_to_int(row['Block']))\n",
    "            if not i % 1000:\n",
    "                clear_output(wait=True)\n",
    "                print(i)"
   ]
  },
  {
   "cell_type": "code",
   "execution_count": 37,
   "metadata": {
    "hidden": true
   },
   "outputs": [],
   "source": [
    "train = pd.read_csv('train.csv')\n",
    "val = pd.read_csv('cross_val.csv')\n",
    "test = pd.read_csv('test.csv')"
   ]
  },
  {
   "cell_type": "code",
   "execution_count": 40,
   "metadata": {
    "hidden": true
   },
   "outputs": [
    {
     "name": "stdout",
     "output_type": "stream",
     "text": [
      "874000\n"
     ]
    }
   ],
   "source": [
    "preprocess(train)"
   ]
  },
  {
   "cell_type": "code",
   "execution_count": 42,
   "metadata": {
    "hidden": true
   },
   "outputs": [
    {
     "name": "stdout",
     "output_type": "stream",
     "text": [
      "291000\n"
     ]
    }
   ],
   "source": [
    "preprocess(test)"
   ]
  },
  {
   "cell_type": "code",
   "execution_count": 43,
   "metadata": {
    "hidden": true
   },
   "outputs": [
    {
     "name": "stdout",
     "output_type": "stream",
     "text": [
      "291000\n"
     ]
    }
   ],
   "source": [
    "preprocess(val)"
   ]
  },
  {
   "cell_type": "code",
   "execution_count": 41,
   "metadata": {
    "hidden": true,
    "scrolled": true
   },
   "outputs": [
    {
     "data": {
      "text/plain": [
       "Block             0\n",
       "Community Area    0\n",
       "Latitude          0\n",
       "Longitude         0\n",
       "dtype: int64"
      ]
     },
     "execution_count": 41,
     "metadata": {},
     "output_type": "execute_result"
    }
   ],
   "source": [
    "train.isna().sum()"
   ]
  },
  {
   "cell_type": "markdown",
   "metadata": {
    "hidden": true
   },
   "source": [
    "---\n",
    "I had made a mistake by doing any computations with pandas. Numpy is much efficient by speed and memory. I will convert it to numpy and proceed.\n",
    "\n",
    "---"
   ]
  },
  {
   "cell_type": "code",
   "execution_count": 44,
   "metadata": {
    "hidden": true
   },
   "outputs": [
    {
     "name": "stdout",
     "output_type": "stream",
     "text": [
      "Converted all and saved\n"
     ]
    }
   ],
   "source": [
    "np.save('Final/train', train.to_numpy())\n",
    "np.save('Final/test', test.to_numpy())\n",
    "np.save('Final/val', val.to_numpy())\n",
    "print(\"Converted all and saved\")"
   ]
  },
  {
   "cell_type": "markdown",
   "metadata": {
    "heading_collapsed": true,
    "hidden": true
   },
   "source": [
    "## Scaling and Normalisation\n",
    "Now that we have our data in hand, it's important to scale it down before passing through our neural network.  "
   ]
  },
  {
   "cell_type": "code",
   "execution_count": 106,
   "metadata": {
    "hidden": true
   },
   "outputs": [],
   "source": [
    "train = np.load('Final//train.npy', allow_pickle=True)\n",
    "test = np.load('Final/test.npy', allow_pickle=True)\n",
    "val = np.load('Final/val.npy', allow_pickle=True)"
   ]
  },
  {
   "cell_type": "markdown",
   "metadata": {
    "hidden": true
   },
   "source": [
    "---\n",
    "We  will apply mean scaling and batch normalisation using two helper function. The formulae are pretty straightforward, easy to derive..\n",
    "\n",
    "We will have our final training data between (-10, 10)\n",
    "\n",
    "---"
   ]
  },
  {
   "cell_type": "code",
   "execution_count": 107,
   "metadata": {
    "hidden": true
   },
   "outputs": [],
   "source": [
    "max_tot = np.vstack([train,test,val]).max(axis=0)\n",
    "min_tot = np.vstack([train,test,val]).min(axis=0)"
   ]
  },
  {
   "cell_type": "code",
   "execution_count": 53,
   "metadata": {
    "hidden": true
   },
   "outputs": [],
   "source": [
    "def scale_norm(train):\n",
    "    scaled = (2 * train - (max_tot + min_tot)) / (max_tot - min_tot) * 10\n",
    "    return scaled\n",
    "\n",
    "def revert(train):\n",
    "    try:\n",
    "        revert = (train * (max_tot[-2:] - min_tot[-2:]) / 10 + (max_tot[-2:] + min_tot[-2:])) / 2\n",
    "    except:\n",
    "        revert = (train * (max_tot - min_tot) / 10 + (max_tot + min_tot)) / 2\n",
    "    return np.array(revert, dtype=np.float)"
   ]
  },
  {
   "cell_type": "code",
   "execution_count": 54,
   "metadata": {
    "hidden": true
   },
   "outputs": [
    {
     "data": {
      "text/plain": [
       "array([[-10.0, -5.844155844155844, 9.72784535979896, 9.089477654354681],\n",
       "       [-9.999388734374522, 2.727272727272727, 8.875914272064046,\n",
       "        9.538691285025056],\n",
       "       [-9.998777468749045, 1.948051948051948, 8.997748425260005,\n",
       "        9.873207862401522],\n",
       "       ...,\n",
       "       [-1.0908035086646903, 7.142857142857143, 9.028261848910189,\n",
       "        9.220274466293878],\n",
       "       [-8.60692563953666, -3.5064935064935066, 9.581354558508423,\n",
       "        8.92790713681007],\n",
       "       [-2.452092056603197, -6.103896103896104, 9.770068744137424,\n",
       "        8.876986994740601]], dtype=object)"
      ]
     },
     "execution_count": 54,
     "metadata": {},
     "output_type": "execute_result"
    }
   ],
   "source": [
    "scale_norm(train)"
   ]
  },
  {
   "cell_type": "code",
   "execution_count": 55,
   "metadata": {
    "hidden": true
   },
   "outputs": [
    {
     "data": {
      "text/plain": [
       "array([[ 0.00000000e+00,  1.60000000e+01,  4.19491835e+01,\n",
       "        -8.77140107e+01],\n",
       "       [ 1.00000000e+00,  4.90000000e+01,  4.17190231e+01,\n",
       "        -8.76205286e+01],\n",
       "       [ 2.00000000e+00,  4.60000000e+01,  4.17519382e+01,\n",
       "        -8.75509151e+01],\n",
       "       ...,\n",
       "       [ 1.45750000e+04,  6.60000000e+01,  4.17601818e+01,\n",
       "        -8.76867917e+01],\n",
       "       [ 2.27900000e+03,  2.50000000e+01,  4.19096070e+01,\n",
       "        -8.77476338e+01],\n",
       "       [ 1.23480000e+04,  1.50000000e+01,  4.19605907e+01,\n",
       "        -8.77582304e+01]])"
      ]
     },
     "execution_count": 55,
     "metadata": {},
     "output_type": "execute_result"
    }
   ],
   "source": [
    "revert(scale_norm(train))"
   ]
  },
  {
   "cell_type": "code",
   "execution_count": 56,
   "metadata": {
    "hidden": true
   },
   "outputs": [
    {
     "data": {
      "text/plain": [
       "array([[0, 16.0, 41.949183466, -87.714010731],\n",
       "       [1, 49.0, 41.71902307, -87.620528559],\n",
       "       [2, 46.0, 41.75193817, -87.55091505200001],\n",
       "       ...,\n",
       "       [14575, 66.0, 41.760181773, -87.686791677],\n",
       "       [2279, 25.0, 41.909607048000005, -87.747633849],\n",
       "       [12348, 15.0, 41.960590669, -87.75823042299999]], dtype=object)"
      ]
     },
     "execution_count": 56,
     "metadata": {},
     "output_type": "execute_result"
    }
   ],
   "source": [
    "train"
   ]
  },
  {
   "cell_type": "markdown",
   "metadata": {
    "hidden": true
   },
   "source": [
    "**By the above 3 calculations, it's evident that our functions are in proper shape**\n",
    "\n",
    "We can proceed to making the neural network"
   ]
  },
  {
   "cell_type": "code",
   "execution_count": 57,
   "metadata": {
    "hidden": true
   },
   "outputs": [],
   "source": [
    "x_train, y_train = scale_norm(train)[:, 0:2], scale_norm(train)[:, 2:4]\n",
    "x_val, y_val = scale_norm(val)[:, 0:2], scale_norm(val)[:, 2:4]\n",
    "x_test, y_test = scale_norm(test)[:, 0:2], scale_norm(test)[:, 2:4]"
   ]
  },
  {
   "cell_type": "markdown",
   "metadata": {
    "heading_collapsed": true
   },
   "source": [
    "# The Model"
   ]
  },
  {
   "cell_type": "markdown",
   "metadata": {
    "heading_collapsed": true,
    "hidden": true
   },
   "source": [
    "## Training\n",
    "We will use the model architecture of \n",
    "* 2 input neurons ➡ W1,b1 + Relu\n",
    "* 512 Hidden neurons in hidden layer ➡ W2,b2 + Linear\n",
    "* 2 output neurons ➡ 😃 \n",
    "\n",
    "Pretty straightforward eh?\n",
    "We will also select a learning rate of 0.0012. \n",
    "These parameters were selected using TensorBoard for visualizing performance with different hyperparameters.\n",
    "\n",
    "We will have a class that manages the neural network. This way, it eliminates the need for all messy variables and lots of functions which are even not as memory efficient due to repetitive copying of variables"
   ]
  },
  {
   "cell_type": "markdown",
   "metadata": {
    "hidden": true
   },
   "source": [
    "![](assets/4.png)"
   ]
  },
  {
   "cell_type": "markdown",
   "metadata": {
    "hidden": true
   },
   "source": [
    "![](assets/2.png)"
   ]
  },
  {
   "cell_type": "markdown",
   "metadata": {
    "hidden": true
   },
   "source": [
    "![1](assets/1.png)"
   ]
  },
  {
   "cell_type": "markdown",
   "metadata": {
    "hidden": true
   },
   "source": [
    "**The above pictures are from the course Neural Networks from DeepLearning.AI by Andrew NG and stand as the foundation for the proceeding**"
   ]
  },
  {
   "cell_type": "markdown",
   "metadata": {
    "hidden": true
   },
   "source": [
    "![](assets/5.png)\n",
    "![](assets/6.png)"
   ]
  },
  {
   "cell_type": "code",
   "execution_count": 97,
   "metadata": {
    "hidden": true
   },
   "outputs": [],
   "source": [
    "class NeuralNetwork:\n",
    "    def __init__(self):\n",
    "        np.random.seed(1)\n",
    "        self.W1 = np.random.randn(512, 2) * 0.01\n",
    "        self.b1 = np.zeros((512, 1))\n",
    "        self.W2 = np.random.randn(2, 512) * 0.01\n",
    "        self.b2 = np.zeros((2, 1))\n",
    "        self.Z1 = None\n",
    "        self.A1 = None\n",
    "        self.Z2 = None\n",
    "        self.A2 = None\n",
    "        self.dZ2 = None\n",
    "        self.dW2 = None\n",
    "        self.db2 = None\n",
    "        self.dZ1 = None\n",
    "        self.dW1 = None\n",
    "        self.db1 = None\n",
    "    \n",
    "    def load_weights(self, weights):\n",
    "        self.W1 = weights[0].T\n",
    "        self.b1 = weights[1].T\n",
    "        self.W2 = weights[2].T\n",
    "        self.b2 = weights[3].T\n",
    "    \n",
    "    def get_weights(self):\n",
    "        weights = []\n",
    "        weights.append(self.W1.T)\n",
    "        weights.append(self.b1.T)\n",
    "        weights.append(self.W2.T)\n",
    "        weights.append(self.b2.T)\n",
    "        return weights\n",
    "    \n",
    "    @staticmethod\n",
    "    def _relu(x, deriv=False):\n",
    "        z = np.copy(x)\n",
    "        if deriv:\n",
    "            z[z<=0] = 0\n",
    "            z[z>0] = 1\n",
    "            return z\n",
    "        z[z<=0] = 0\n",
    "        return z\n",
    "    \n",
    "    @staticmethod\n",
    "    def _linear(z):\n",
    "        return z\n",
    "    \n",
    "    def forward_prop(self, X, predict=False):\n",
    "        self.Z1 = np.dot(self.W1, X.T) + self.b1\n",
    "        self.A1 = self._relu(self.Z1)\n",
    "        self.Z2 = np.dot(self.W2, self.A1) + self.b2\n",
    "        self.A2 = self._linear(self.Z2)\n",
    "        if predict:\n",
    "            return self.A2.T\n",
    "    \n",
    "    def cost_function(self, Y):\n",
    "        m = Y.shape[0]\n",
    "        squared_errors = np.square(self.A2 - Y.T)\n",
    "        cost = np.sum(squared_errors) / (2 * m)\n",
    "        return np.squeeze(cost)\n",
    "    \n",
    "    def back_prop(self, X, Y):\n",
    "        m = Y.shape[0]\n",
    "        self.dZ2 = self.A2 - Y.T\n",
    "        self.dW2 = np.dot(self.dZ2, self.A1.T) / m\n",
    "        self.db2 = np.sum(self.dZ2, axis=1, keepdims=True) / m\n",
    "        self.dZ1 = np.multiply(np.dot(self.W2.T, self.dZ2), self._relu(self.Z1, deriv=True))\n",
    "        self.dW1 = np.dot(self.dZ1, X) / m\n",
    "        self.db1 = np.sum(self.dZ1, axis=1, keepdims=True) / m\n",
    "    \n",
    "    def grad_descent(self, lr=0.0012):\n",
    "        self.W1 = self.W1 - lr * self.dW1\n",
    "        self.b1 = self.b1 - lr * self.db1\n",
    "        self.W2 = self.W2 - lr * self.dW2\n",
    "        self.b2 = self.b2 - lr * self.db2\n",
    "\n",
    "model = NeuralNetwork()"
   ]
  },
  {
   "cell_type": "markdown",
   "metadata": {
    "hidden": true
   },
   "source": [
    "$Note$ : \n",
    "* Initially I had a problem with memory management as having 512 neurons and dealing with 8 Lakhs samples proved to crash my system or raise Memory errors.\n",
    "* To deal with it I first attempted to reduce all variables and weights to a np.float16/32 datatype. This worked... though, the accuracy that was possible was never achieved due to lack of precision I delt with when reducing the datatype size.\n",
    "\n",
    "* So I started training in batches of 10,000 rows and iterating over them for each epoch.\n",
    "* The model was trained for about 150 Epochs after which the loss converging to a 'really good value' of 0.02 and still decreasing\n",
    "\n",
    "The training logs have been removed as they are very long. But the model can be retrained any time or can be loaded from the weights and tested using helper functions of the class.\n",
    "\n",
    "For the first 20 Epochs, using a value of 1,000 instead of 10,000 in the places marked with '⮜' works good as we just take about 10% data and work with it to get the weights from vague values to little closer to actual ones. But this cannot be done for more than 20 epochs as due to the size of the model architecture, we tend to overfit to those 10%... After those 1st 20 epochs, reverting to the actual value of 10,000 starts to fit to the model properly and we can continue until we like it."
   ]
  },
  {
   "cell_type": "code",
   "execution_count": null,
   "metadata": {
    "hidden": true
   },
   "outputs": [],
   "source": [
    "EPOCHS = 500\n",
    "\n",
    "for i in range(EPOCHS):\n",
    "  for ii in range(0,\n",
    "                 len(x_train),\n",
    "                 10_000):\n",
    "      model.forward_prop(x_train[ii:ii+10_000,:]) # ⮜\n",
    "      loss = model.cost_function(y_train[ii:ii+10_000,:]) # ⮜\n",
    "      model.back_prop(x_train[ii:ii+10_000,:], y_train[ii:ii+10_000,:]) # ⮜\n",
    "      model.grad_descent()\n",
    "      if not ii % 1_00_000:\n",
    "        print(f\"{i + 1} EPOCHS : {ii} : Batches Train Loss : {loss}\")"
   ]
  },
  {
   "cell_type": "code",
   "execution_count": 98,
   "metadata": {
    "hidden": true,
    "scrolled": true
   },
   "outputs": [
    {
     "data": {
      "text/plain": [
       "(2, 512)"
      ]
     },
     "execution_count": 98,
     "metadata": {},
     "output_type": "execute_result"
    }
   ],
   "source": [
    "model.get_weights()[0].shape"
   ]
  },
  {
   "cell_type": "code",
   "execution_count": 99,
   "metadata": {
    "hidden": true,
    "scrolled": true
   },
   "outputs": [
    {
     "data": {
      "text/plain": [
       "(1, 512)"
      ]
     },
     "execution_count": 99,
     "metadata": {},
     "output_type": "execute_result"
    }
   ],
   "source": [
    "model.get_weights()[1].shape"
   ]
  },
  {
   "cell_type": "code",
   "execution_count": 100,
   "metadata": {
    "hidden": true
   },
   "outputs": [
    {
     "data": {
      "text/plain": [
       "(512, 2)"
      ]
     },
     "execution_count": 100,
     "metadata": {},
     "output_type": "execute_result"
    }
   ],
   "source": [
    "model.get_weights()[2].shape"
   ]
  },
  {
   "cell_type": "code",
   "execution_count": 101,
   "metadata": {
    "hidden": true
   },
   "outputs": [
    {
     "data": {
      "text/plain": [
       "(1, 2)"
      ]
     },
     "execution_count": 101,
     "metadata": {},
     "output_type": "execute_result"
    }
   ],
   "source": [
    "model.get_weights()[3].shape"
   ]
  },
  {
   "cell_type": "markdown",
   "metadata": {
    "heading_collapsed": true,
    "hidden": true
   },
   "source": [
    "## Predicting"
   ]
  },
  {
   "cell_type": "markdown",
   "metadata": {
    "hidden": true
   },
   "source": [
    "The trained weights are enclosed in the weights folder in a numpy format"
   ]
  },
  {
   "cell_type": "code",
   "execution_count": 91,
   "metadata": {
    "hidden": true
   },
   "outputs": [],
   "source": [
    "wts = np.load('Weights/wts.npy', allow_pickle=True)"
   ]
  },
  {
   "cell_type": "code",
   "execution_count": 92,
   "metadata": {
    "hidden": true,
    "scrolled": true
   },
   "outputs": [
    {
     "data": {
      "text/plain": [
       "(2, 512)"
      ]
     },
     "execution_count": 92,
     "metadata": {},
     "output_type": "execute_result"
    }
   ],
   "source": [
    "wts[0].shape"
   ]
  },
  {
   "cell_type": "code",
   "execution_count": 93,
   "metadata": {
    "hidden": true,
    "scrolled": false
   },
   "outputs": [
    {
     "data": {
      "text/plain": [
       "(1, 512)"
      ]
     },
     "execution_count": 93,
     "metadata": {},
     "output_type": "execute_result"
    }
   ],
   "source": [
    "wts[1].shape"
   ]
  },
  {
   "cell_type": "code",
   "execution_count": 94,
   "metadata": {
    "hidden": true,
    "scrolled": false
   },
   "outputs": [
    {
     "data": {
      "text/plain": [
       "(512, 2)"
      ]
     },
     "execution_count": 94,
     "metadata": {},
     "output_type": "execute_result"
    }
   ],
   "source": [
    "wts[2].shape"
   ]
  },
  {
   "cell_type": "code",
   "execution_count": 95,
   "metadata": {
    "hidden": true
   },
   "outputs": [
    {
     "data": {
      "text/plain": [
       "(1, 2)"
      ]
     },
     "execution_count": 95,
     "metadata": {},
     "output_type": "execute_result"
    }
   ],
   "source": [
    "wts[3].shape"
   ]
  },
  {
   "cell_type": "markdown",
   "metadata": {
    "hidden": true
   },
   "source": [
    "We will test this model against the validation data set. You can use the $model.forward_prop$ method by toggling predict flag to be true"
   ]
  },
  {
   "cell_type": "code",
   "execution_count": 103,
   "metadata": {
    "hidden": true
   },
   "outputs": [],
   "source": [
    "model.load_weights(wts)"
   ]
  },
  {
   "cell_type": "markdown",
   "metadata": {
    "hidden": true
   },
   "source": [
    "### Validation Data"
   ]
  },
  {
   "cell_type": "code",
   "execution_count": 108,
   "metadata": {
    "hidden": true
   },
   "outputs": [
    {
     "data": {
      "text/plain": [
       "array([[ 41.8692541 , -87.72951417],\n",
       "       [ 41.69804245, -87.59727175],\n",
       "       [ 41.73868964, -87.65443003],\n",
       "       [ 41.7064008 , -87.58930563],\n",
       "       [ 41.89024364, -87.71661451],\n",
       "       [ 41.99253258, -87.72642697],\n",
       "       [ 41.88128797, -87.72332527],\n",
       "       [ 41.925411  , -87.75003793],\n",
       "       [ 41.88709518, -87.63813088],\n",
       "       [ 41.84794932, -87.68343248]])"
      ]
     },
     "execution_count": 108,
     "metadata": {},
     "output_type": "execute_result"
    }
   ],
   "source": [
    "revert(model.forward_prop(x_val[:10,:], predict=True))"
   ]
  },
  {
   "cell_type": "code",
   "execution_count": 111,
   "metadata": {
    "hidden": true
   },
   "outputs": [
    {
     "name": "stdout",
     "output_type": "stream",
     "text": [
      "Loss : 0.01013507951436637\n"
     ]
    }
   ],
   "source": [
    "print(f\"Loss : {model.cost_function(y_val[:10,:])}\")"
   ]
  },
  {
   "cell_type": "markdown",
   "metadata": {
    "hidden": true
   },
   "source": [
    "A loss of 0.01 over a MSE cost function is pretty impressive, lets try it on the whole dataset..."
   ]
  },
  {
   "cell_type": "code",
   "execution_count": 116,
   "metadata": {
    "hidden": true
   },
   "outputs": [
    {
     "name": "stdout",
     "output_type": "stream",
     "text": [
      "0 predictions done\n",
      "50000 predictions done\n",
      "100000 predictions done\n",
      "150000 predictions done\n",
      "200000 predictions done\n",
      "250000 predictions done\n"
     ]
    }
   ],
   "source": [
    "y_prediction = []\n",
    "for i in range(0,\n",
    "              len(x_val),\n",
    "              10_000):\n",
    "    try:\n",
    "        y_prediction = np.vstack((np.squeeze(y_prediction),\n",
    "                                np.squeeze(model.forward_prop(x_val[i:i+10_000,:], predict=True))))\n",
    "    except:\n",
    "        y_prediction = model.forward_prop(x_val[i:i+10_000,:], predict=True)\n",
    "    if not i % 50_000:\n",
    "        print(f\"{i} predictions done\")"
   ]
  },
  {
   "cell_type": "code",
   "execution_count": 118,
   "metadata": {
    "hidden": true
   },
   "outputs": [
    {
     "data": {
      "text/plain": [
       "(283991, 2)"
      ]
     },
     "execution_count": 118,
     "metadata": {},
     "output_type": "execute_result"
    }
   ],
   "source": [
    "y_prediction.shape"
   ]
  },
  {
   "cell_type": "code",
   "execution_count": 119,
   "metadata": {
    "hidden": true
   },
   "outputs": [
    {
     "data": {
      "text/plain": [
       "(283991, 2)"
      ]
     },
     "execution_count": 119,
     "metadata": {},
     "output_type": "execute_result"
    }
   ],
   "source": [
    "y_val.shape"
   ]
  },
  {
   "cell_type": "markdown",
   "metadata": {
    "hidden": true
   },
   "source": [
    "**Our moment of truth of the predctions!!**"
   ]
  },
  {
   "cell_type": "code",
   "execution_count": 126,
   "metadata": {
    "hidden": true
   },
   "outputs": [],
   "source": [
    "truth = np.isclose(revert(y_prediction),\n",
    "                   revert(y_val),\n",
    "                   atol=0.1,\n",
    "                   rtol=0.0045)"
   ]
  },
  {
   "cell_type": "code",
   "execution_count": 127,
   "metadata": {
    "hidden": true
   },
   "outputs": [
    {
     "data": {
      "text/plain": [
       "26"
      ]
     },
     "execution_count": 127,
     "metadata": {},
     "output_type": "execute_result"
    }
   ],
   "source": [
    "len(np.where(truth == False)[0])"
   ]
  },
  {
   "cell_type": "markdown",
   "metadata": {
    "hidden": true
   },
   "source": [
    "---\n",
    "The above functions use absolute tolerance and relative tolerance to measure the closeness between the float objects. \n",
    "We achieve a very good result of **only 26 predictions having an error above 0.45%** out of about 3 lakhs samples!!! 👌👌\n",
    "\n",
    "This suggests that our model is so accurate that it can almost be used in real world application!! \n",
    "\n",
    "---"
   ]
  },
  {
   "cell_type": "markdown",
   "metadata": {
    "heading_collapsed": true
   },
   "source": [
    "# Acknowledgement\n",
    "I am deeply thankful to Andrew NG, SentDex, Siraj Rival and numerous other scholars around the globe who share their knowledge for free.\n",
    "I am also thankful to my mentor and senior, Yash Patel who was helpful and promptly guided me through the task without who, it may not have been as smooth"
   ]
  }
 ],
 "metadata": {
  "kernelspec": {
   "display_name": "Python 3",
   "language": "python",
   "name": "python3"
  },
  "language_info": {
   "codemirror_mode": {
    "name": "ipython",
    "version": 3
   },
   "file_extension": ".py",
   "mimetype": "text/x-python",
   "name": "python",
   "nbconvert_exporter": "python",
   "pygments_lexer": "ipython3",
   "version": "3.7.3"
  },
  "pycharm": {
   "stem_cell": {
    "cell_type": "raw",
    "metadata": {
     "collapsed": false
    },
    "source": []
   }
  },
  "toc": {
   "base_numbering": 1,
   "nav_menu": {},
   "number_sections": true,
   "sideBar": true,
   "skip_h1_title": false,
   "title_cell": "Table of Contents",
   "title_sidebar": "Contents",
   "toc_cell": false,
   "toc_position": {},
   "toc_section_display": true,
   "toc_window_display": true
  },
  "varInspector": {
   "cols": {
    "lenName": 16,
    "lenType": 16,
    "lenVar": 40
   },
   "kernels_config": {
    "python": {
     "delete_cmd_postfix": "",
     "delete_cmd_prefix": "del ",
     "library": "var_list.py",
     "varRefreshCmd": "print(var_dic_list())"
    },
    "r": {
     "delete_cmd_postfix": ") ",
     "delete_cmd_prefix": "rm(",
     "library": "var_list.r",
     "varRefreshCmd": "cat(var_dic_list()) "
    }
   },
   "position": {
    "height": "297.713px",
    "left": "1375.45px",
    "right": "20px",
    "top": "120px",
    "width": "350px"
   },
   "types_to_exclude": [
    "module",
    "function",
    "builtin_function_or_method",
    "instance",
    "_Feature"
   ],
   "window_display": false
  }
 },
 "nbformat": 4,
 "nbformat_minor": 1
}
